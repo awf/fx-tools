{
 "cells": [
  {
   "cell_type": "markdown",
   "metadata": {},
   "source": [
    "# Examples of the use of DiffFX"
   ]
  },
  {
   "cell_type": "code",
   "execution_count": 2,
   "metadata": {},
   "outputs": [
    {
     "ename": "AssertionError",
     "evalue": "While executing %mul : [#users=1] = call_function[target=operator.mul](args = (%sin, %x), kwargs = {})\nOriginal traceback:\nNone",
     "output_type": "error",
     "traceback": [
      "\u001b[0;31m---------------------------------------------------------------------------\u001b[0m",
      "\u001b[0;31mAssertionError\u001b[0m                            Traceback (most recent call last)",
      "Cell \u001b[0;32mIn [2], line 16\u001b[0m\n\u001b[1;32m     13\u001b[0m torch\u001b[39m.\u001b[39mmanual_seed(\u001b[39m42\u001b[39m)\n\u001b[1;32m     15\u001b[0m x \u001b[39m=\u001b[39m torch\u001b[39m.\u001b[39mrandn(\u001b[39m3\u001b[39m,\u001b[39m3\u001b[39m)\n\u001b[0;32m---> 16\u001b[0m foo_vjp \u001b[39m=\u001b[39m dfx\u001b[39m.\u001b[39;49mvjp(foo, x)\n\u001b[1;32m     18\u001b[0m dret \u001b[39m=\u001b[39m torch\u001b[39m.\u001b[39mrandn_like(foo(x))\n\u001b[1;32m     19\u001b[0m foo_vjp_pt \u001b[39m=\u001b[39m \u001b[39mlambda\u001b[39;00m x,dret: torch\u001b[39m.\u001b[39mautograd\u001b[39m.\u001b[39mfunctional\u001b[39m.\u001b[39mvjp(foo, x, dret)\n",
      "File \u001b[0;32m~/dev/fx-tools/difffx.py:134\u001b[0m, in \u001b[0;36mvjp\u001b[0;34m(f, sample_input)\u001b[0m\n\u001b[1;32m    131\u001b[0m     \u001b[39mreturn\u001b[39;00m ret, d[x]\n\u001b[1;32m    133\u001b[0m \u001b[39m# Trace through vjp_template and return.\u001b[39;00m\n\u001b[0;32m--> 134\u001b[0m \u001b[39mreturn\u001b[39;00m torch\u001b[39m.\u001b[39;49mfx\u001b[39m.\u001b[39;49msymbolic_trace(vjp_template)\n",
      "File \u001b[0;32m~/miniconda3/envs/pytorch/lib/python3.10/site-packages/torch/fx/_symbolic_trace.py:1070\u001b[0m, in \u001b[0;36msymbolic_trace\u001b[0;34m(root, concrete_args)\u001b[0m\n\u001b[1;32m   1022\u001b[0m \u001b[39m\"\"\"\u001b[39;00m\n\u001b[1;32m   1023\u001b[0m \u001b[39mSymbolic tracing API\u001b[39;00m\n\u001b[1;32m   1024\u001b[0m \n\u001b[0;32m   (...)\u001b[0m\n\u001b[1;32m   1067\u001b[0m \u001b[39m    GraphModule: a Module created from the recorded operations from ``root``.\u001b[39;00m\n\u001b[1;32m   1068\u001b[0m \u001b[39m\"\"\"\u001b[39;00m\n\u001b[1;32m   1069\u001b[0m tracer \u001b[39m=\u001b[39m Tracer()\n\u001b[0;32m-> 1070\u001b[0m graph \u001b[39m=\u001b[39m tracer\u001b[39m.\u001b[39;49mtrace(root, concrete_args)\n\u001b[1;32m   1071\u001b[0m name \u001b[39m=\u001b[39m (\n\u001b[1;32m   1072\u001b[0m     root\u001b[39m.\u001b[39m\u001b[39m__class__\u001b[39m\u001b[39m.\u001b[39m\u001b[39m__name__\u001b[39m \u001b[39mif\u001b[39;00m \u001b[39misinstance\u001b[39m(root, torch\u001b[39m.\u001b[39mnn\u001b[39m.\u001b[39mModule) \u001b[39melse\u001b[39;00m root\u001b[39m.\u001b[39m\u001b[39m__name__\u001b[39m\n\u001b[1;32m   1073\u001b[0m )\n\u001b[1;32m   1074\u001b[0m \u001b[39mreturn\u001b[39;00m GraphModule(tracer\u001b[39m.\u001b[39mroot, graph, name)\n",
      "File \u001b[0;32m~/miniconda3/envs/pytorch/lib/python3.10/site-packages/torch/fx/_symbolic_trace.py:739\u001b[0m, in \u001b[0;36mTracer.trace\u001b[0;34m(self, root, concrete_args)\u001b[0m\n\u001b[1;32m    732\u001b[0m         \u001b[39mfor\u001b[39;00m module \u001b[39min\u001b[39;00m \u001b[39mself\u001b[39m\u001b[39m.\u001b[39m_autowrap_search:\n\u001b[1;32m    733\u001b[0m             _autowrap_check(\n\u001b[1;32m    734\u001b[0m                 patcher, module\u001b[39m.\u001b[39m\u001b[39m__dict__\u001b[39m, \u001b[39mself\u001b[39m\u001b[39m.\u001b[39m_autowrap_function_ids\n\u001b[1;32m    735\u001b[0m             )\n\u001b[1;32m    736\u001b[0m         \u001b[39mself\u001b[39m\u001b[39m.\u001b[39mcreate_node(\n\u001b[1;32m    737\u001b[0m             \u001b[39m\"\u001b[39m\u001b[39moutput\u001b[39m\u001b[39m\"\u001b[39m,\n\u001b[1;32m    738\u001b[0m             \u001b[39m\"\u001b[39m\u001b[39moutput\u001b[39m\u001b[39m\"\u001b[39m,\n\u001b[0;32m--> 739\u001b[0m             (\u001b[39mself\u001b[39m\u001b[39m.\u001b[39mcreate_arg(fn(\u001b[39m*\u001b[39;49margs)),),\n\u001b[1;32m    740\u001b[0m             {},\n\u001b[1;32m    741\u001b[0m             type_expr\u001b[39m=\u001b[39mfn\u001b[39m.\u001b[39m\u001b[39m__annotations__\u001b[39m\u001b[39m.\u001b[39mget(\u001b[39m\"\u001b[39m\u001b[39mreturn\u001b[39m\u001b[39m\"\u001b[39m, \u001b[39mNone\u001b[39;00m),\n\u001b[1;32m    742\u001b[0m         )\n\u001b[1;32m    744\u001b[0m     \u001b[39mself\u001b[39m\u001b[39m.\u001b[39msubmodule_paths \u001b[39m=\u001b[39m \u001b[39mNone\u001b[39;00m\n\u001b[1;32m    745\u001b[0m \u001b[39mfinally\u001b[39;00m:\n",
      "File \u001b[0;32m~/dev/fx-tools/difffx.py:120\u001b[0m, in \u001b[0;36mvjp.<locals>.vjp_template\u001b[0;34m(x, dret)\u001b[0m\n\u001b[1;32m    117\u001b[0m \u001b[39mdef\u001b[39;00m \u001b[39mvjp_template\u001b[39m(x, dret):\n\u001b[1;32m    118\u001b[0m     \u001b[39m# Run the forward computations, and collect them in ad.stack\u001b[39;00m\n\u001b[1;32m    119\u001b[0m     ad \u001b[39m=\u001b[39m ADInterpreter(f_trace)\n\u001b[0;32m--> 120\u001b[0m     ret \u001b[39m=\u001b[39m ad\u001b[39m.\u001b[39;49mrun(x)\n\u001b[1;32m    121\u001b[0m     \u001b[39m# Build a dict to hold derivatives\u001b[39;00m\n\u001b[1;32m    122\u001b[0m     d \u001b[39m=\u001b[39m  defaultdict(\u001b[39mlambda\u001b[39;00m: \u001b[39m0\u001b[39m)\n",
      "File \u001b[0;32m~/miniconda3/envs/pytorch/lib/python3.10/site-packages/torch/fx/interpreter.py:130\u001b[0m, in \u001b[0;36mInterpreter.run\u001b[0;34m(self, initial_env, enable_io_processing, *args)\u001b[0m\n\u001b[1;32m    127\u001b[0m     \u001b[39mcontinue\u001b[39;00m\n\u001b[1;32m    129\u001b[0m \u001b[39mtry\u001b[39;00m:\n\u001b[0;32m--> 130\u001b[0m     \u001b[39mself\u001b[39m\u001b[39m.\u001b[39menv[node] \u001b[39m=\u001b[39m \u001b[39mself\u001b[39;49m\u001b[39m.\u001b[39;49mrun_node(node)\n\u001b[1;32m    131\u001b[0m \u001b[39mexcept\u001b[39;00m \u001b[39mException\u001b[39;00m \u001b[39mas\u001b[39;00m e:\n\u001b[1;32m    132\u001b[0m     msg \u001b[39m=\u001b[39m \u001b[39mf\u001b[39m\u001b[39m\"\u001b[39m\u001b[39mWhile executing \u001b[39m\u001b[39m{\u001b[39;00mnode\u001b[39m.\u001b[39mformat_node()\u001b[39m}\u001b[39;00m\u001b[39m\"\u001b[39m\n",
      "File \u001b[0;32m~/dev/fx-tools/difffx.py:19\u001b[0m, in \u001b[0;36mAnnotatingInterpreter.run_node\u001b[0;34m(self, n)\u001b[0m\n\u001b[1;32m     18\u001b[0m \u001b[39mdef\u001b[39;00m \u001b[39mrun_node\u001b[39m(\u001b[39mself\u001b[39m, n):\n\u001b[0;32m---> 19\u001b[0m     val \u001b[39m=\u001b[39m \u001b[39msuper\u001b[39;49m()\u001b[39m.\u001b[39;49mrun_node(n)\n\u001b[1;32m     20\u001b[0m     val\u001b[39m.\u001b[39mfxi_node \u001b[39m=\u001b[39m n \u001b[39m# Attach node to val\u001b[39;00m\n\u001b[1;32m     21\u001b[0m     \u001b[39mreturn\u001b[39;00m val\n",
      "File \u001b[0;32m~/miniconda3/envs/pytorch/lib/python3.10/site-packages/torch/fx/interpreter.py:171\u001b[0m, in \u001b[0;36mInterpreter.run_node\u001b[0;34m(self, n)\u001b[0m\n\u001b[1;32m    169\u001b[0m \u001b[39massert\u001b[39;00m \u001b[39misinstance\u001b[39m(args, \u001b[39mtuple\u001b[39m)\n\u001b[1;32m    170\u001b[0m \u001b[39massert\u001b[39;00m \u001b[39misinstance\u001b[39m(kwargs, \u001b[39mdict\u001b[39m)\n\u001b[0;32m--> 171\u001b[0m \u001b[39mreturn\u001b[39;00m \u001b[39mgetattr\u001b[39;49m(\u001b[39mself\u001b[39;49m, n\u001b[39m.\u001b[39;49mop)(n\u001b[39m.\u001b[39;49mtarget, args, kwargs)\n",
      "File \u001b[0;32m~/dev/fx-tools/difffx.py:95\u001b[0m, in \u001b[0;36mvjp.<locals>.ADInterpreter.call_function\u001b[0;34m(self, target, args, kwargs)\u001b[0m\n\u001b[1;32m     93\u001b[0m fwd,bwd \u001b[39m=\u001b[39m ad_map[target]\n\u001b[1;32m     94\u001b[0m \u001b[39m# Call the fwd function, getting proxies for returns\u001b[39;00m\n\u001b[0;32m---> 95\u001b[0m val,aux \u001b[39m=\u001b[39m fwd(\u001b[39m*\u001b[39;49margs)\n\u001b[1;32m     96\u001b[0m \u001b[39m# In the backward pass, we will compute:\u001b[39;00m\n\u001b[1;32m     97\u001b[0m \u001b[39m#  d[args[0]],...,d[args[-1]] = bwd(aux, d{val})\u001b[39;00m\n\u001b[1;32m     98\u001b[0m \u001b[39m# So remember: (args, bwd, aux, val)\u001b[39;00m\n\u001b[1;32m     99\u001b[0m \u001b[39m# Note that all of these are symbolic, so it's cheap to remember them\u001b[39;00m\n\u001b[1;32m    100\u001b[0m \u001b[39mself\u001b[39m\u001b[39m.\u001b[39mstack\u001b[39m.\u001b[39mappend((args, bwd, aux, val))\n",
      "File \u001b[0;32m~/dev/fx-tools/difffx.py:173\u001b[0m, in \u001b[0;36mfx_mul_fwd\u001b[0;34m(A, B)\u001b[0m\n\u001b[1;32m    172\u001b[0m \u001b[39mdef\u001b[39;00m \u001b[39mfx_mul_fwd\u001b[39m(A,B):\n\u001b[0;32m--> 173\u001b[0m     \u001b[39massert\u001b[39;00m fx_shape(A) \u001b[39m==\u001b[39m fx_shape(B)\n\u001b[1;32m    174\u001b[0m     \u001b[39mreturn\u001b[39;00m vjp_rules\u001b[39m.\u001b[39mmul_fwd(A,B)\n",
      "\u001b[0;31mAssertionError\u001b[0m: While executing %mul : [#users=1] = call_function[target=operator.mul](args = (%sin, %x), kwargs = {})\nOriginal traceback:\nNone"
     ]
    }
   ],
   "source": [
    "import torch\n",
    "from awfutils.pytree_utils import PyTree\n",
    "import difffx as dfx\n",
    "import vjp_rules\n",
    "\n",
    "# Function to vjp\n",
    "def foo(x):\n",
    "    w = torch.trace(x)\n",
    "    w = torch.sin(w)\n",
    "    a = w * x\n",
    "    return a\n",
    "\n",
    "torch.manual_seed(42)\n",
    "\n",
    "x = torch.randn(3,3)\n",
    "foo_vjp = dfx.vjp(foo, x)\n",
    "\n",
    "dret = torch.randn_like(foo(x))\n",
    "foo_vjp_pt = lambda x,dret: torch.autograd.functional.vjp(foo, x, dret)\n",
    "\n",
    "PyTree.assert_close(foo_vjp_pt(x,dret), foo_vjp(x, dret))\n",
    "print('VJPs match OK')\n",
    "\n",
    "print(foo_vjp.code)"
   ]
  }
 ],
 "metadata": {
  "kernelspec": {
   "display_name": "Python 3.10.8 ('pytorch')",
   "language": "python",
   "name": "python3"
  },
  "language_info": {
   "codemirror_mode": {
    "name": "ipython",
    "version": 3
   },
   "file_extension": ".py",
   "mimetype": "text/x-python",
   "name": "python",
   "nbconvert_exporter": "python",
   "pygments_lexer": "ipython3",
   "version": "3.10.8"
  },
  "orig_nbformat": 4,
  "vscode": {
   "interpreter": {
    "hash": "28f0c4cf9ff11e7fed1023153201d84a0ac9765962dc65ba2242229f995562f8"
   }
  }
 },
 "nbformat": 4,
 "nbformat_minor": 2
}
