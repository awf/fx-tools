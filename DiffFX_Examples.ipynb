{
 "cells": [
  {
   "cell_type": "markdown",
   "metadata": {},
   "source": [
    "# Examples of the use of DiffFX"
   ]
  },
  {
   "cell_type": "code",
   "execution_count": 3,
   "metadata": {},
   "outputs": [
    {
     "name": "stderr",
     "output_type": "stream",
     "text": [
      "Traceback (most recent call last):\n",
      "  File \"/home/awf/miniconda3/envs/pytorch/lib/python3.10/site-packages/torch/fx/passes/shape_prop.py\", line 116, in run_node\n",
      "    result = super().run_node(n)\n",
      "  File \"/home/awf/miniconda3/envs/pytorch/lib/python3.10/site-packages/torch/fx/interpreter.py\", line 171, in run_node\n",
      "    return getattr(self, n.op)(n.target, args, kwargs)\n",
      "  File \"/home/awf/miniconda3/envs/pytorch/lib/python3.10/site-packages/torch/fx/interpreter.py\", line 243, in call_function\n",
      "    return target(*args, **kwargs)\n",
      "TypeError: trace(): argument 'input' (position 1) must be Tensor, not tuple\n"
     ]
    },
    {
     "ename": "RuntimeError",
     "evalue": "ShapeProp error for: node=%trace : [#users=1] = call_function[target=torch.trace](args = (%x,), kwargs = {}) with meta={}\n\nWhile executing %trace : [#users=1] = call_function[target=torch.trace](args = (%x,), kwargs = {})\nOriginal traceback:\nNone",
     "output_type": "error",
     "traceback": [
      "\u001b[0;31m---------------------------------------------------------------------------\u001b[0m",
      "\u001b[0;31mTypeError\u001b[0m                                 Traceback (most recent call last)",
      "File \u001b[0;32m~/miniconda3/envs/pytorch/lib/python3.10/site-packages/torch/fx/passes/shape_prop.py:116\u001b[0m, in \u001b[0;36mShapeProp.run_node\u001b[0;34m(self, n)\u001b[0m\n\u001b[1;32m    115\u001b[0m \u001b[39mtry\u001b[39;00m:\n\u001b[0;32m--> 116\u001b[0m     result \u001b[39m=\u001b[39m \u001b[39msuper\u001b[39;49m()\u001b[39m.\u001b[39;49mrun_node(n)\n\u001b[1;32m    117\u001b[0m \u001b[39mexcept\u001b[39;00m \u001b[39mException\u001b[39;00m:\n",
      "File \u001b[0;32m~/miniconda3/envs/pytorch/lib/python3.10/site-packages/torch/fx/interpreter.py:171\u001b[0m, in \u001b[0;36mInterpreter.run_node\u001b[0;34m(self, n)\u001b[0m\n\u001b[1;32m    170\u001b[0m \u001b[39massert\u001b[39;00m \u001b[39misinstance\u001b[39m(kwargs, \u001b[39mdict\u001b[39m)\n\u001b[0;32m--> 171\u001b[0m \u001b[39mreturn\u001b[39;00m \u001b[39mgetattr\u001b[39;49m(\u001b[39mself\u001b[39;49m, n\u001b[39m.\u001b[39;49mop)(n\u001b[39m.\u001b[39;49mtarget, args, kwargs)\n",
      "File \u001b[0;32m~/miniconda3/envs/pytorch/lib/python3.10/site-packages/torch/fx/interpreter.py:243\u001b[0m, in \u001b[0;36mInterpreter.call_function\u001b[0;34m(self, target, args, kwargs)\u001b[0m\n\u001b[1;32m    242\u001b[0m \u001b[39m# Execute the function and return the result\u001b[39;00m\n\u001b[0;32m--> 243\u001b[0m \u001b[39mreturn\u001b[39;00m target(\u001b[39m*\u001b[39;49margs, \u001b[39m*\u001b[39;49m\u001b[39m*\u001b[39;49mkwargs)\n",
      "\u001b[0;31mTypeError\u001b[0m: trace(): argument 'input' (position 1) must be Tensor, not tuple",
      "\nDuring handling of the above exception, another exception occurred:\n",
      "\u001b[0;31mRuntimeError\u001b[0m                              Traceback (most recent call last)",
      "Cell \u001b[0;32mIn [3], line 16\u001b[0m\n\u001b[1;32m     13\u001b[0m torch\u001b[39m.\u001b[39mmanual_seed(\u001b[39m42\u001b[39m)\n\u001b[1;32m     15\u001b[0m x \u001b[39m=\u001b[39m torch\u001b[39m.\u001b[39mrandn(\u001b[39m3\u001b[39m,\u001b[39m3\u001b[39m)\n\u001b[0;32m---> 16\u001b[0m foo_vjp \u001b[39m=\u001b[39m dfx\u001b[39m.\u001b[39;49mvjp(foo, (x,))\n\u001b[1;32m     18\u001b[0m dret \u001b[39m=\u001b[39m torch\u001b[39m.\u001b[39mrandn_like(foo(x))\n\u001b[1;32m     19\u001b[0m foo_vjp_pt \u001b[39m=\u001b[39m \u001b[39mlambda\u001b[39;00m x,dret: torch\u001b[39m.\u001b[39mautograd\u001b[39m.\u001b[39mfunctional\u001b[39m.\u001b[39mvjp(foo, x, dret)\n",
      "File \u001b[0;32m~/dev/fx-tools/difffx.py:103\u001b[0m, in \u001b[0;36mvjp\u001b[0;34m(f, sample_input)\u001b[0m\n\u001b[1;32m    100\u001b[0m f_trace \u001b[39m=\u001b[39m torch\u001b[39m.\u001b[39mfx\u001b[39m.\u001b[39msymbolic_trace(f)\n\u001b[1;32m    102\u001b[0m \u001b[39m# Run shape analysis, record answers in the graph\u001b[39;00m\n\u001b[0;32m--> 103\u001b[0m fx_add_shapes(f_trace, sample_input)\n\u001b[1;32m    105\u001b[0m \u001b[39m# This is the \"template\" function for the VJP\u001b[39;00m\n\u001b[1;32m    106\u001b[0m \u001b[39mdef\u001b[39;00m \u001b[39mvjp_template\u001b[39m(x, dret):\n\u001b[1;32m    107\u001b[0m     \u001b[39m# Run the forward computations, and collect them in ad.stack\u001b[39;00m\n",
      "File \u001b[0;32m~/dev/fx-tools/difffx.py:19\u001b[0m, in \u001b[0;36mfx_add_shapes\u001b[0;34m(f_trace, sample_input)\u001b[0m\n\u001b[1;32m     15\u001b[0m \u001b[39mdef\u001b[39;00m \u001b[39mfx_add_shapes\u001b[39m(f_trace : torch\u001b[39m.\u001b[39mfx\u001b[39m.\u001b[39mGraphModule, sample_input : Any):\n\u001b[1;32m     16\u001b[0m     \u001b[39m\"\"\"\u001b[39;00m\n\u001b[1;32m     17\u001b[0m \u001b[39m    Run shape propagation on graph `f_trace`, which will add shape metadata in place.\u001b[39;00m\n\u001b[1;32m     18\u001b[0m \u001b[39m    \"\"\"\u001b[39;00m\n\u001b[0;32m---> 19\u001b[0m     torch\u001b[39m.\u001b[39;49mfx\u001b[39m.\u001b[39;49mpasses\u001b[39m.\u001b[39;49mgraph_manipulation\u001b[39m.\u001b[39;49mShapeProp(f_trace)\u001b[39m.\u001b[39;49mrun(sample_input)\n",
      "File \u001b[0;32m~/miniconda3/envs/pytorch/lib/python3.10/site-packages/torch/fx/interpreter.py:130\u001b[0m, in \u001b[0;36mInterpreter.run\u001b[0;34m(self, initial_env, enable_io_processing, *args)\u001b[0m\n\u001b[1;32m    127\u001b[0m     \u001b[39mcontinue\u001b[39;00m\n\u001b[1;32m    129\u001b[0m \u001b[39mtry\u001b[39;00m:\n\u001b[0;32m--> 130\u001b[0m     \u001b[39mself\u001b[39m\u001b[39m.\u001b[39menv[node] \u001b[39m=\u001b[39m \u001b[39mself\u001b[39;49m\u001b[39m.\u001b[39;49mrun_node(node)\n\u001b[1;32m    131\u001b[0m \u001b[39mexcept\u001b[39;00m \u001b[39mException\u001b[39;00m \u001b[39mas\u001b[39;00m e:\n\u001b[1;32m    132\u001b[0m     msg \u001b[39m=\u001b[39m \u001b[39mf\u001b[39m\u001b[39m\"\u001b[39m\u001b[39mWhile executing \u001b[39m\u001b[39m{\u001b[39;00mnode\u001b[39m.\u001b[39mformat_node()\u001b[39m}\u001b[39;00m\u001b[39m\"\u001b[39m\n",
      "File \u001b[0;32m~/miniconda3/envs/pytorch/lib/python3.10/site-packages/torch/fx/passes/shape_prop.py:119\u001b[0m, in \u001b[0;36mShapeProp.run_node\u001b[0;34m(self, n)\u001b[0m\n\u001b[1;32m    117\u001b[0m \u001b[39mexcept\u001b[39;00m \u001b[39mException\u001b[39;00m:\n\u001b[1;32m    118\u001b[0m     traceback\u001b[39m.\u001b[39mprint_exc()\n\u001b[0;32m--> 119\u001b[0m     \u001b[39mraise\u001b[39;00m \u001b[39mRuntimeError\u001b[39;00m(\n\u001b[1;32m    120\u001b[0m         \u001b[39mf\u001b[39m\u001b[39m\"\u001b[39m\u001b[39mShapeProp error for: node=\u001b[39m\u001b[39m{\u001b[39;00mn\u001b[39m.\u001b[39mformat_node()\u001b[39m}\u001b[39;00m\u001b[39m with \u001b[39m\u001b[39m\"\u001b[39m\n\u001b[1;32m    121\u001b[0m         \u001b[39mf\u001b[39m\u001b[39m\"\u001b[39m\u001b[39mmeta=\u001b[39m\u001b[39m{\u001b[39;00mn\u001b[39m.\u001b[39mmeta\u001b[39m}\u001b[39;00m\u001b[39m\"\u001b[39m\n\u001b[1;32m    122\u001b[0m     )\n\u001b[1;32m    124\u001b[0m found_tensor \u001b[39m=\u001b[39m \u001b[39mFalse\u001b[39;00m\n\u001b[1;32m    126\u001b[0m \u001b[39mdef\u001b[39;00m \u001b[39mextract_tensor_meta\u001b[39m(obj):\n",
      "\u001b[0;31mRuntimeError\u001b[0m: ShapeProp error for: node=%trace : [#users=1] = call_function[target=torch.trace](args = (%x,), kwargs = {}) with meta={}\n\nWhile executing %trace : [#users=1] = call_function[target=torch.trace](args = (%x,), kwargs = {})\nOriginal traceback:\nNone"
     ]
    }
   ],
   "source": [
    "import torch\n",
    "from awfutils.pytree_utils import PyTree\n",
    "import difffx as dfx\n",
    "import vjp_rules\n",
    "\n",
    "# Function to vjp\n",
    "def foo(x):\n",
    "    w = torch.trace(x)\n",
    "    w = torch.sin(w)\n",
    "    a = vjp_rules.scale(w, x)\n",
    "    return a\n",
    "\n",
    "torch.manual_seed(42)\n",
    "\n",
    "x = torch.randn(3,3)\n",
    "foo_vjp = dfx.vjp(foo, x)\n",
    "\n",
    "dret = torch.randn_like(foo(x))\n",
    "foo_vjp_pt = lambda x,dret: torch.autograd.functional.vjp(foo, x, dret)\n",
    "\n",
    "PyTree.assert_close(foo_vjp_pt(x,dret), foo_vjp(x, dret))\n",
    "print('VJPs match OK')\n",
    "\n",
    "print(foo_vjp.code)"
   ]
  }
 ],
 "metadata": {
  "kernelspec": {
   "display_name": "Python 3.10.8 ('pytorch')",
   "language": "python",
   "name": "python3"
  },
  "language_info": {
   "codemirror_mode": {
    "name": "ipython",
    "version": 3
   },
   "file_extension": ".py",
   "mimetype": "text/x-python",
   "name": "python",
   "nbconvert_exporter": "python",
   "pygments_lexer": "ipython3",
   "version": "3.10.8"
  },
  "orig_nbformat": 4,
  "vscode": {
   "interpreter": {
    "hash": "28f0c4cf9ff11e7fed1023153201d84a0ac9765962dc65ba2242229f995562f8"
   }
  }
 },
 "nbformat": 4,
 "nbformat_minor": 2
}
