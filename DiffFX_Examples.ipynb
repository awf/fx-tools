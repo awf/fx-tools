{
 "cells": [
  {
   "cell_type": "markdown",
   "metadata": {},
   "source": [
    "# Examples of the use of DiffFX"
   ]
  },
  {
   "cell_type": "code",
   "execution_count": 3,
   "metadata": {},
   "outputs": [
    {
     "ename": "AttributeError",
     "evalue": "'Tensor' object has no attribute 'ty'",
     "output_type": "error",
     "traceback": [
      "\u001b[0;31m---------------------------------------------------------------------------\u001b[0m",
      "\u001b[0;31mAttributeError\u001b[0m                            Traceback (most recent call last)",
      "Cell \u001b[0;32mIn [3], line 19\u001b[0m\n\u001b[1;32m     16\u001b[0m x \u001b[39m=\u001b[39m torch\u001b[39m.\u001b[39mrandn(\u001b[39m3\u001b[39m,\u001b[39m3\u001b[39m)\n\u001b[1;32m     18\u001b[0m aargs \u001b[39m=\u001b[39m (dfx\u001b[39m.\u001b[39mabstractify(x),) \u001b[39m# Abstract arguments\u001b[39;00m\n\u001b[0;32m---> 19\u001b[0m fx_print(shnty_trace(foo, aargs)) \u001b[39m# Show trace of 'foo'\u001b[39;00m\n",
      "File \u001b[0;32m~/dev/gh-awf/fx-tools/fx_shnty.py:333\u001b[0m, in \u001b[0;36mshnty_trace\u001b[0;34m(func, aargs)\u001b[0m\n\u001b[1;32m    331\u001b[0m _log(\u001b[39mf\u001b[39m\u001b[39m\"\u001b[39m\u001b[39mshnty_trace \u001b[39m\u001b[39m{\u001b[39;00maargs\u001b[39m}\u001b[39;00m\u001b[39m\"\u001b[39m)\n\u001b[1;32m    332\u001b[0m shnty_tracer \u001b[39m=\u001b[39m AbstractValueTracer(aargs)\n\u001b[0;32m--> 333\u001b[0m graph \u001b[39m=\u001b[39m shnty_tracer\u001b[39m.\u001b[39;49mtrace(func)\n\u001b[1;32m    334\u001b[0m \u001b[39mreturn\u001b[39;00m tfx\u001b[39m.\u001b[39mGraphModule(shnty_tracer\u001b[39m.\u001b[39mroot, graph, func\u001b[39m.\u001b[39m\u001b[39m__name__\u001b[39m)\n",
      "File \u001b[0;32m~/anaconda3/envs/pytorch/lib/python3.8/site-packages/torch/fx/_symbolic_trace.py:747\u001b[0m, in \u001b[0;36mTracer.trace\u001b[0;34m(self, root, concrete_args)\u001b[0m\n\u001b[1;32m    745\u001b[0m     \u001b[39mself\u001b[39m\u001b[39m.\u001b[39msubmodule_paths \u001b[39m=\u001b[39m \u001b[39mNone\u001b[39;00m\n\u001b[1;32m    746\u001b[0m \u001b[39mexcept\u001b[39;00m \u001b[39mException\u001b[39;00m \u001b[39mas\u001b[39;00m e:\n\u001b[0;32m--> 747\u001b[0m     \u001b[39mraise\u001b[39;00m e\n\u001b[1;32m    748\u001b[0m \u001b[39mfinally\u001b[39;00m:\n\u001b[1;32m    749\u001b[0m     _is_fx_tracing_flag \u001b[39m=\u001b[39m old_is_fx_tracing_flag\n",
      "File \u001b[0;32m~/anaconda3/envs/pytorch/lib/python3.8/site-packages/torch/fx/_symbolic_trace.py:740\u001b[0m, in \u001b[0;36mTracer.trace\u001b[0;34m(self, root, concrete_args)\u001b[0m\n\u001b[1;32m    733\u001b[0m         \u001b[39mfor\u001b[39;00m module \u001b[39min\u001b[39;00m \u001b[39mself\u001b[39m\u001b[39m.\u001b[39m_autowrap_search:\n\u001b[1;32m    734\u001b[0m             _autowrap_check(\n\u001b[1;32m    735\u001b[0m                 patcher, module\u001b[39m.\u001b[39m\u001b[39m__dict__\u001b[39m, \u001b[39mself\u001b[39m\u001b[39m.\u001b[39m_autowrap_function_ids\n\u001b[1;32m    736\u001b[0m             )\n\u001b[1;32m    737\u001b[0m         \u001b[39mself\u001b[39m\u001b[39m.\u001b[39mcreate_node(\n\u001b[1;32m    738\u001b[0m             \u001b[39m\"\u001b[39m\u001b[39moutput\u001b[39m\u001b[39m\"\u001b[39m,\n\u001b[1;32m    739\u001b[0m             \u001b[39m\"\u001b[39m\u001b[39moutput\u001b[39m\u001b[39m\"\u001b[39m,\n\u001b[0;32m--> 740\u001b[0m             (\u001b[39mself\u001b[39m\u001b[39m.\u001b[39mcreate_arg(fn(\u001b[39m*\u001b[39;49margs)),),\n\u001b[1;32m    741\u001b[0m             {},\n\u001b[1;32m    742\u001b[0m             type_expr\u001b[39m=\u001b[39mfn\u001b[39m.\u001b[39m\u001b[39m__annotations__\u001b[39m\u001b[39m.\u001b[39mget(\u001b[39m\"\u001b[39m\u001b[39mreturn\u001b[39m\u001b[39m\"\u001b[39m, \u001b[39mNone\u001b[39;00m),\n\u001b[1;32m    743\u001b[0m         )\n\u001b[1;32m    745\u001b[0m     \u001b[39mself\u001b[39m\u001b[39m.\u001b[39msubmodule_paths \u001b[39m=\u001b[39m \u001b[39mNone\u001b[39;00m\n\u001b[1;32m    746\u001b[0m \u001b[39mexcept\u001b[39;00m \u001b[39mException\u001b[39;00m \u001b[39mas\u001b[39;00m e:\n",
      "Cell \u001b[0;32mIn [3], line 10\u001b[0m, in \u001b[0;36mfoo\u001b[0;34m(x)\u001b[0m\n\u001b[1;32m      8\u001b[0m \u001b[39mdef\u001b[39;00m \u001b[39mfoo\u001b[39m(x):\n\u001b[1;32m      9\u001b[0m     w \u001b[39m=\u001b[39m torch\u001b[39m.\u001b[39mtrace(x)\n\u001b[0;32m---> 10\u001b[0m     h \u001b[39m=\u001b[39m torch\u001b[39m.\u001b[39;49mtensor(\u001b[39m2.2\u001b[39;49m) \u001b[39m*\u001b[39;49m torch\u001b[39m.\u001b[39;49msin(w)\n\u001b[1;32m     11\u001b[0m     a \u001b[39m=\u001b[39m h \u001b[39m*\u001b[39m x                 \u001b[39m#TODO: + x\u001b[39;00m\n\u001b[1;32m     12\u001b[0m     \u001b[39mreturn\u001b[39;00m a\n",
      "File \u001b[0;32m~/anaconda3/envs/pytorch/lib/python3.8/site-packages/torch/fx/proxy.py:331\u001b[0m, in \u001b[0;36mProxy.__torch_function__\u001b[0;34m(cls, orig_method, types, args, kwargs)\u001b[0m\n\u001b[1;32m    329\u001b[0m     \u001b[39mreturn\u001b[39;00m tracer\u001b[39m.\u001b[39mcreate_proxy(\u001b[39m'\u001b[39m\u001b[39mcall_method\u001b[39m\u001b[39m'\u001b[39m, orig_method\u001b[39m.\u001b[39mname, args, kwargs)\n\u001b[1;32m    330\u001b[0m \u001b[39mif\u001b[39;00m torch\u001b[39m.\u001b[39moverrides\u001b[39m.\u001b[39mis_tensor_method_or_property(orig_method):\n\u001b[0;32m--> 331\u001b[0m     \u001b[39mreturn\u001b[39;00m tracer\u001b[39m.\u001b[39;49mcreate_proxy(\u001b[39m'\u001b[39;49m\u001b[39mcall_method\u001b[39;49m\u001b[39m'\u001b[39;49m, orig_method\u001b[39m.\u001b[39;49m\u001b[39m__name__\u001b[39;49m, args, kwargs)\n\u001b[1;32m    332\u001b[0m \u001b[39melse\u001b[39;00m:\n\u001b[1;32m    333\u001b[0m     \u001b[39mreturn\u001b[39;00m tracer\u001b[39m.\u001b[39mcreate_proxy(\u001b[39m'\u001b[39m\u001b[39mcall_function\u001b[39m\u001b[39m'\u001b[39m, orig_method, args, kwargs,\n\u001b[1;32m    334\u001b[0m                                name\u001b[39m=\u001b[39mtracer\u001b[39m.\u001b[39mgraph\u001b[39m.\u001b[39m_target_to_str(orig_method\u001b[39m.\u001b[39m\u001b[39m__name__\u001b[39m))\n",
      "File \u001b[0;32m~/anaconda3/envs/pytorch/lib/python3.8/site-packages/torch/fx/proxy.py:74\u001b[0m, in \u001b[0;36mTracerBase.create_proxy\u001b[0;34m(self, kind, target, args, kwargs, name, type_expr, proxy_factory_fn)\u001b[0m\n\u001b[1;32m     71\u001b[0m node \u001b[39m=\u001b[39m \u001b[39mself\u001b[39m\u001b[39m.\u001b[39mcreate_node(kind, target, args_, kwargs_, name, type_expr)\n\u001b[1;32m     73\u001b[0m \u001b[39mif\u001b[39;00m \u001b[39mnot\u001b[39;00m proxy_factory_fn:\n\u001b[0;32m---> 74\u001b[0m     proxy \u001b[39m=\u001b[39m \u001b[39mself\u001b[39;49m\u001b[39m.\u001b[39;49mproxy(node)\n\u001b[1;32m     75\u001b[0m \u001b[39melse\u001b[39;00m:\n\u001b[1;32m     76\u001b[0m     proxy \u001b[39m=\u001b[39m proxy_factory_fn(node)\n",
      "File \u001b[0;32m~/dev/gh-awf/fx-tools/fx_shnty.py:289\u001b[0m, in \u001b[0;36mAbstractValueTracer.proxy\u001b[0;34m(self, node)\u001b[0m\n\u001b[1;32m    287\u001b[0m     key \u001b[39m=\u001b[39m node\u001b[39m.\u001b[39mtarget\n\u001b[1;32m    288\u001b[0m \u001b[39melif\u001b[39;00m node\u001b[39m.\u001b[39mop \u001b[39m==\u001b[39m \u001b[39m\"\u001b[39m\u001b[39mcall_method\u001b[39m\u001b[39m\"\u001b[39m:\n\u001b[0;32m--> 289\u001b[0m     key \u001b[39m=\u001b[39m (aargs_or_vals[\u001b[39m0\u001b[39;49m]\u001b[39m.\u001b[39;49mty, node\u001b[39m.\u001b[39mtarget)\n\u001b[1;32m    290\u001b[0m \u001b[39melse\u001b[39;00m:\n\u001b[1;32m    291\u001b[0m     \u001b[39massert\u001b[39;00m \u001b[39mFalse\u001b[39;00m\n",
      "\u001b[0;31mAttributeError\u001b[0m: 'Tensor' object has no attribute 'ty'"
     ]
    }
   ],
   "source": [
    "import torch\n",
    "from awfutils.pytree_utils import PyTree\n",
    "import difffx as dfx\n",
    "from fx_print import fx_print\n",
    "from fx_shnty import shnty_trace\n",
    "\n",
    "# Function to vjp\n",
    "def foo(x):\n",
    "    w = torch.trace(x)\n",
    "    h = torch.tensor(2.2) * torch.sin(w)\n",
    "    a = h * x                 #TODO: + x\n",
    "    return a\n",
    "\n",
    "torch.manual_seed(42)\n",
    "\n",
    "x = torch.randn(3,3)\n",
    "\n",
    "aargs = (dfx.abstractify(x),) # Abstract arguments\n",
    "fx_print(shnty_trace(foo, aargs)) # Show trace of 'foo'"
   ]
  },
  {
   "cell_type": "markdown",
   "metadata": {},
   "source": [
    "Now get the VJP code"
   ]
  },
  {
   "cell_type": "code",
   "execution_count": 2,
   "metadata": {},
   "outputs": [
    {
     "ename": "AttributeError",
     "evalue": "'float' object has no attribute 'shape'",
     "output_type": "error",
     "traceback": [
      "\u001b[0;31m---------------------------------------------------------------------------\u001b[0m",
      "\u001b[0;31mAttributeError\u001b[0m                            Traceback (most recent call last)",
      "Cell \u001b[0;32mIn [2], line 1\u001b[0m\n\u001b[0;32m----> 1\u001b[0m foo_vjp \u001b[39m=\u001b[39m dfx\u001b[39m.\u001b[39;49mvjp(foo, aargs)\n\u001b[1;32m      2\u001b[0m fx_print(foo_vjp) \u001b[39m# Show vjp code\u001b[39;00m\n",
      "File \u001b[0;32m~/dev/gh-awf/fx-tools/difffx.py:134\u001b[0m, in \u001b[0;36mvjp\u001b[0;34m(f, sample_input)\u001b[0m\n\u001b[1;32m    130\u001b[0m     \u001b[39mreturn\u001b[39;00m ret, d[x]\n\u001b[1;32m    132\u001b[0m vjp_args \u001b[39m=\u001b[39m sample_input \u001b[39m+\u001b[39m (ret_shnty,)\n\u001b[0;32m--> 134\u001b[0m \u001b[39mreturn\u001b[39;00m shnty_trace(vjp_template, vjp_args)\n",
      "File \u001b[0;32m~/dev/gh-awf/fx-tools/fx_shnty.py:333\u001b[0m, in \u001b[0;36mshnty_trace\u001b[0;34m(func, aargs)\u001b[0m\n\u001b[1;32m    331\u001b[0m _log(\u001b[39mf\u001b[39m\u001b[39m\"\u001b[39m\u001b[39mshnty_trace \u001b[39m\u001b[39m{\u001b[39;00maargs\u001b[39m}\u001b[39;00m\u001b[39m\"\u001b[39m)\n\u001b[1;32m    332\u001b[0m shnty_tracer \u001b[39m=\u001b[39m AbstractValueTracer(aargs)\n\u001b[0;32m--> 333\u001b[0m graph \u001b[39m=\u001b[39m shnty_tracer\u001b[39m.\u001b[39;49mtrace(func)\n\u001b[1;32m    334\u001b[0m \u001b[39mreturn\u001b[39;00m tfx\u001b[39m.\u001b[39mGraphModule(shnty_tracer\u001b[39m.\u001b[39mroot, graph, func\u001b[39m.\u001b[39m\u001b[39m__name__\u001b[39m)\n",
      "File \u001b[0;32m~/anaconda3/envs/pytorch/lib/python3.8/site-packages/torch/fx/_symbolic_trace.py:747\u001b[0m, in \u001b[0;36mTracer.trace\u001b[0;34m(self, root, concrete_args)\u001b[0m\n\u001b[1;32m    745\u001b[0m     \u001b[39mself\u001b[39m\u001b[39m.\u001b[39msubmodule_paths \u001b[39m=\u001b[39m \u001b[39mNone\u001b[39;00m\n\u001b[1;32m    746\u001b[0m \u001b[39mexcept\u001b[39;00m \u001b[39mException\u001b[39;00m \u001b[39mas\u001b[39;00m e:\n\u001b[0;32m--> 747\u001b[0m     \u001b[39mraise\u001b[39;00m e\n\u001b[1;32m    748\u001b[0m \u001b[39mfinally\u001b[39;00m:\n\u001b[1;32m    749\u001b[0m     _is_fx_tracing_flag \u001b[39m=\u001b[39m old_is_fx_tracing_flag\n",
      "File \u001b[0;32m~/anaconda3/envs/pytorch/lib/python3.8/site-packages/torch/fx/_symbolic_trace.py:740\u001b[0m, in \u001b[0;36mTracer.trace\u001b[0;34m(self, root, concrete_args)\u001b[0m\n\u001b[1;32m    733\u001b[0m         \u001b[39mfor\u001b[39;00m module \u001b[39min\u001b[39;00m \u001b[39mself\u001b[39m\u001b[39m.\u001b[39m_autowrap_search:\n\u001b[1;32m    734\u001b[0m             _autowrap_check(\n\u001b[1;32m    735\u001b[0m                 patcher, module\u001b[39m.\u001b[39m\u001b[39m__dict__\u001b[39m, \u001b[39mself\u001b[39m\u001b[39m.\u001b[39m_autowrap_function_ids\n\u001b[1;32m    736\u001b[0m             )\n\u001b[1;32m    737\u001b[0m         \u001b[39mself\u001b[39m\u001b[39m.\u001b[39mcreate_node(\n\u001b[1;32m    738\u001b[0m             \u001b[39m\"\u001b[39m\u001b[39moutput\u001b[39m\u001b[39m\"\u001b[39m,\n\u001b[1;32m    739\u001b[0m             \u001b[39m\"\u001b[39m\u001b[39moutput\u001b[39m\u001b[39m\"\u001b[39m,\n\u001b[0;32m--> 740\u001b[0m             (\u001b[39mself\u001b[39m\u001b[39m.\u001b[39mcreate_arg(fn(\u001b[39m*\u001b[39;49margs)),),\n\u001b[1;32m    741\u001b[0m             {},\n\u001b[1;32m    742\u001b[0m             type_expr\u001b[39m=\u001b[39mfn\u001b[39m.\u001b[39m\u001b[39m__annotations__\u001b[39m\u001b[39m.\u001b[39mget(\u001b[39m\"\u001b[39m\u001b[39mreturn\u001b[39m\u001b[39m\"\u001b[39m, \u001b[39mNone\u001b[39;00m),\n\u001b[1;32m    743\u001b[0m         )\n\u001b[1;32m    745\u001b[0m     \u001b[39mself\u001b[39m\u001b[39m.\u001b[39msubmodule_paths \u001b[39m=\u001b[39m \u001b[39mNone\u001b[39;00m\n\u001b[1;32m    746\u001b[0m \u001b[39mexcept\u001b[39;00m \u001b[39mException\u001b[39;00m \u001b[39mas\u001b[39;00m e:\n",
      "File \u001b[0;32m~/dev/gh-awf/fx-tools/difffx.py:126\u001b[0m, in \u001b[0;36mvjp.<locals>.vjp_template\u001b[0;34m(x, dret)\u001b[0m\n\u001b[1;32m    124\u001b[0m \u001b[39m# And run down the stack...\u001b[39;00m\n\u001b[1;32m    125\u001b[0m \u001b[39mfor\u001b[39;00m (args, bwd, aux, val) \u001b[39min\u001b[39;00m \u001b[39mreversed\u001b[39m(ad\u001b[39m.\u001b[39mstack):\n\u001b[0;32m--> 126\u001b[0m     dargs \u001b[39m=\u001b[39m bwd(aux, d[val])\n\u001b[1;32m    127\u001b[0m     \u001b[39mfor\u001b[39;00m (a, da) \u001b[39min\u001b[39;00m \u001b[39mzip\u001b[39m(args, ensure_tuple(dargs)):\n\u001b[1;32m    128\u001b[0m         d[a] \u001b[39m+\u001b[39m\u001b[39m=\u001b[39m da\n",
      "File \u001b[0;32m~/dev/gh-awf/fx-tools/vjp_rules.py:108\u001b[0m, in \u001b[0;36mmul_bwd\u001b[0;34m(aux, dret)\u001b[0m\n\u001b[1;32m    106\u001b[0m \u001b[39mdef\u001b[39;00m \u001b[39mmul_bwd\u001b[39m(aux, dret):\n\u001b[1;32m    107\u001b[0m     A, B \u001b[39m=\u001b[39m aux\n\u001b[0;32m--> 108\u001b[0m     shape \u001b[39m=\u001b[39m torch\u001b[39m.\u001b[39mbroadcast_shapes(A\u001b[39m.\u001b[39;49mshape, B\u001b[39m.\u001b[39mshape)\n\u001b[1;32m    110\u001b[0m     \u001b[39mdef\u001b[39;00m \u001b[39mcontract_over_expanded_dims\u001b[39m(X, expander):\n\u001b[1;32m    111\u001b[0m         dims_to_sum \u001b[39m=\u001b[39m \u001b[39mtuple\u001b[39m(i \u001b[39mfor\u001b[39;00m i, v \u001b[39min\u001b[39;00m \u001b[39menumerate\u001b[39m(expander) \u001b[39mif\u001b[39;00m v \u001b[39m!=\u001b[39m \u001b[39m-\u001b[39m\u001b[39m1\u001b[39m)\n",
      "\u001b[0;31mAttributeError\u001b[0m: 'float' object has no attribute 'shape'"
     ]
    }
   ],
   "source": [
    "foo_vjp = dfx.vjp(foo, aargs)\n",
    "fx_print(foo_vjp) # Show vjp code"
   ]
  },
  {
   "cell_type": "code",
   "execution_count": null,
   "metadata": {},
   "outputs": [],
   "source": [
    "dret = torch.randn_like(foo(x))\n",
    "foo_vjp_pt = lambda x,dret: torch.autograd.functional.vjp(foo, x, dret)\n",
    "\n",
    "PyTree.assert_close(foo_vjp_pt(x,dret), foo_vjp(x, dret))\n",
    "print('VJPs match OK')\n"
   ]
  }
 ],
 "metadata": {
  "kernelspec": {
   "display_name": "Python 3.8.13 ('pytorch')",
   "language": "python",
   "name": "python3"
  },
  "language_info": {
   "codemirror_mode": {
    "name": "ipython",
    "version": 3
   },
   "file_extension": ".py",
   "mimetype": "text/x-python",
   "name": "python",
   "nbconvert_exporter": "python",
   "pygments_lexer": "ipython3",
   "version": "3.8.13"
  },
  "orig_nbformat": 4,
  "vscode": {
   "interpreter": {
    "hash": "b2bf4d325c6b65d79f774d86abebbf8809e91177030cf9ae093d5f991bbfb52e"
   }
  }
 },
 "nbformat": 4,
 "nbformat_minor": 2
}
