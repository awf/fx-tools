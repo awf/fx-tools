{
 "cells": [
  {
   "cell_type": "markdown",
   "metadata": {},
   "source": [
    "# Examples of the use of DiffFX"
   ]
  },
  {
   "cell_type": "code",
   "execution_count": 1,
   "metadata": {},
   "outputs": [
    {
     "name": "stdout",
     "output_type": "stream",
     "text": [
      "shnty_trace tensor([[ 0.3367,  0.1288,  0.2345],\n",
      "        [ 0.2303, -1.1229, -0.1863],\n",
      "        [ 2.2082, -0.6380,  0.4617]])\n",
      "shnty_trace -- x = x\n",
      "shnty_trace -- trace = torch.trace(x)\n"
     ]
    },
    {
     "ename": "NotImplementedError",
     "evalue": "check trace implementation for snhty tensor([0.3367, 0.1288, 0.2345]), it might be fine",
     "output_type": "error",
     "traceback": [
      "\u001b[0;31m---------------------------------------------------------------------------\u001b[0m",
      "\u001b[0;31mNotImplementedError\u001b[0m                       Traceback (most recent call last)",
      "Cell \u001b[0;32mIn [1], line 15\u001b[0m\n\u001b[1;32m     12\u001b[0m torch\u001b[39m.\u001b[39mmanual_seed(\u001b[39m42\u001b[39m)\n\u001b[1;32m     14\u001b[0m x \u001b[39m=\u001b[39m torch\u001b[39m.\u001b[39mrandn(\u001b[39m3\u001b[39m,\u001b[39m3\u001b[39m)\n\u001b[0;32m---> 15\u001b[0m foo_vjp \u001b[39m=\u001b[39m dfx\u001b[39m.\u001b[39;49mvjp(foo, x)\n\u001b[1;32m     17\u001b[0m dret \u001b[39m=\u001b[39m torch\u001b[39m.\u001b[39mrandn_like(foo(x))\n\u001b[1;32m     18\u001b[0m foo_vjp_pt \u001b[39m=\u001b[39m \u001b[39mlambda\u001b[39;00m x,dret: torch\u001b[39m.\u001b[39mautograd\u001b[39m.\u001b[39mfunctional\u001b[39m.\u001b[39mvjp(foo, x, dret)\n",
      "File \u001b[0;32m~/dev/fx-tools/difffx.py:99\u001b[0m, in \u001b[0;36mvjp\u001b[0;34m(f, sample_input)\u001b[0m\n\u001b[1;32m     96\u001b[0m         \u001b[39mraise\u001b[39;00m \u001b[39mNotImplementedError\u001b[39;00m  \u001b[39m# TODO\u001b[39;00m\n\u001b[1;32m     98\u001b[0m \u001b[39m# Grab the FX graph\u001b[39;00m\n\u001b[0;32m---> 99\u001b[0m f_trace \u001b[39m=\u001b[39m shnty_trace(f, sample_input)\n\u001b[1;32m    101\u001b[0m fx_print(f_trace)\n\u001b[1;32m    102\u001b[0m ret_shnty \u001b[39m=\u001b[39m get_return_abstract_value(f_trace)\n",
      "File \u001b[0;32m~/dev/fx-tools/fx_shnty.py:340\u001b[0m, in \u001b[0;36mshnty_trace\u001b[0;34m(func, aargs)\u001b[0m\n\u001b[1;32m    338\u001b[0m _log(\u001b[39mf\u001b[39m\u001b[39m\"\u001b[39m\u001b[39mshnty_trace \u001b[39m\u001b[39m{\u001b[39;00maargs\u001b[39m}\u001b[39;00m\u001b[39m\"\u001b[39m)\n\u001b[1;32m    339\u001b[0m shnty_tracer \u001b[39m=\u001b[39m AbstractValueTracer(aargs)\n\u001b[0;32m--> 340\u001b[0m graph \u001b[39m=\u001b[39m shnty_tracer\u001b[39m.\u001b[39;49mtrace(func)\n\u001b[1;32m    341\u001b[0m \u001b[39mreturn\u001b[39;00m tfx\u001b[39m.\u001b[39mGraphModule(shnty_tracer\u001b[39m.\u001b[39mroot, graph, func\u001b[39m.\u001b[39m\u001b[39m__name__\u001b[39m)\n",
      "File \u001b[0;32m~/miniconda3/envs/pytorch/lib/python3.10/site-packages/torch/fx/_symbolic_trace.py:739\u001b[0m, in \u001b[0;36mTracer.trace\u001b[0;34m(self, root, concrete_args)\u001b[0m\n\u001b[1;32m    732\u001b[0m         \u001b[39mfor\u001b[39;00m module \u001b[39min\u001b[39;00m \u001b[39mself\u001b[39m\u001b[39m.\u001b[39m_autowrap_search:\n\u001b[1;32m    733\u001b[0m             _autowrap_check(\n\u001b[1;32m    734\u001b[0m                 patcher, module\u001b[39m.\u001b[39m\u001b[39m__dict__\u001b[39m, \u001b[39mself\u001b[39m\u001b[39m.\u001b[39m_autowrap_function_ids\n\u001b[1;32m    735\u001b[0m             )\n\u001b[1;32m    736\u001b[0m         \u001b[39mself\u001b[39m\u001b[39m.\u001b[39mcreate_node(\n\u001b[1;32m    737\u001b[0m             \u001b[39m\"\u001b[39m\u001b[39moutput\u001b[39m\u001b[39m\"\u001b[39m,\n\u001b[1;32m    738\u001b[0m             \u001b[39m\"\u001b[39m\u001b[39moutput\u001b[39m\u001b[39m\"\u001b[39m,\n\u001b[0;32m--> 739\u001b[0m             (\u001b[39mself\u001b[39m\u001b[39m.\u001b[39mcreate_arg(fn(\u001b[39m*\u001b[39;49margs)),),\n\u001b[1;32m    740\u001b[0m             {},\n\u001b[1;32m    741\u001b[0m             type_expr\u001b[39m=\u001b[39mfn\u001b[39m.\u001b[39m\u001b[39m__annotations__\u001b[39m\u001b[39m.\u001b[39mget(\u001b[39m\"\u001b[39m\u001b[39mreturn\u001b[39m\u001b[39m\"\u001b[39m, \u001b[39mNone\u001b[39;00m),\n\u001b[1;32m    742\u001b[0m         )\n\u001b[1;32m    744\u001b[0m     \u001b[39mself\u001b[39m\u001b[39m.\u001b[39msubmodule_paths \u001b[39m=\u001b[39m \u001b[39mNone\u001b[39;00m\n\u001b[1;32m    745\u001b[0m \u001b[39mfinally\u001b[39;00m:\n",
      "Cell \u001b[0;32mIn [1], line 7\u001b[0m, in \u001b[0;36mfoo\u001b[0;34m(x)\u001b[0m\n\u001b[1;32m      6\u001b[0m \u001b[39mdef\u001b[39;00m \u001b[39mfoo\u001b[39m(x):\n\u001b[0;32m----> 7\u001b[0m     w \u001b[39m=\u001b[39m torch\u001b[39m.\u001b[39;49mtrace(x)\n\u001b[1;32m      8\u001b[0m     w \u001b[39m=\u001b[39m torch\u001b[39m.\u001b[39msin(w)\n\u001b[1;32m      9\u001b[0m     a \u001b[39m=\u001b[39m w \u001b[39m*\u001b[39m x\n",
      "File \u001b[0;32m~/miniconda3/envs/pytorch/lib/python3.10/site-packages/torch/fx/proxy.py:333\u001b[0m, in \u001b[0;36mProxy.__torch_function__\u001b[0;34m(cls, orig_method, types, args, kwargs)\u001b[0m\n\u001b[1;32m    331\u001b[0m     \u001b[39mreturn\u001b[39;00m tracer\u001b[39m.\u001b[39mcreate_proxy(\u001b[39m'\u001b[39m\u001b[39mcall_method\u001b[39m\u001b[39m'\u001b[39m, orig_method\u001b[39m.\u001b[39m\u001b[39m__name__\u001b[39m, args, kwargs)\n\u001b[1;32m    332\u001b[0m \u001b[39melse\u001b[39;00m:\n\u001b[0;32m--> 333\u001b[0m     \u001b[39mreturn\u001b[39;00m tracer\u001b[39m.\u001b[39;49mcreate_proxy(\u001b[39m'\u001b[39;49m\u001b[39mcall_function\u001b[39;49m\u001b[39m'\u001b[39;49m, orig_method, args, kwargs,\n\u001b[1;32m    334\u001b[0m                                name\u001b[39m=\u001b[39;49mtracer\u001b[39m.\u001b[39;49mgraph\u001b[39m.\u001b[39;49m_target_to_str(orig_method\u001b[39m.\u001b[39;49m\u001b[39m__name__\u001b[39;49m))\n",
      "File \u001b[0;32m~/miniconda3/envs/pytorch/lib/python3.10/site-packages/torch/fx/proxy.py:74\u001b[0m, in \u001b[0;36mTracerBase.create_proxy\u001b[0;34m(self, kind, target, args, kwargs, name, type_expr, proxy_factory_fn)\u001b[0m\n\u001b[1;32m     71\u001b[0m node \u001b[39m=\u001b[39m \u001b[39mself\u001b[39m\u001b[39m.\u001b[39mcreate_node(kind, target, args_, kwargs_, name, type_expr)\n\u001b[1;32m     73\u001b[0m \u001b[39mif\u001b[39;00m \u001b[39mnot\u001b[39;00m proxy_factory_fn:\n\u001b[0;32m---> 74\u001b[0m     proxy \u001b[39m=\u001b[39m \u001b[39mself\u001b[39;49m\u001b[39m.\u001b[39;49mproxy(node)\n\u001b[1;32m     75\u001b[0m \u001b[39melse\u001b[39;00m:\n\u001b[1;32m     76\u001b[0m     proxy \u001b[39m=\u001b[39m proxy_factory_fn(node)\n",
      "File \u001b[0;32m~/dev/fx-tools/fx_shnty.py:319\u001b[0m, in \u001b[0;36mAbstractValueTracer.proxy\u001b[0;34m(self, node)\u001b[0m\n\u001b[1;32m    314\u001b[0m         \u001b[39mraise\u001b[39;00m \u001b[39mNotImplementedError\u001b[39;00m(\n\u001b[1;32m    315\u001b[0m             \u001b[39mf\u001b[39m\u001b[39m\"\u001b[39m\u001b[39mNeed to implement `shnty_propagate` for \u001b[39m\u001b[39m{\u001b[39;00m_opspec_to_str(key)\u001b[39m}\u001b[39;00m\u001b[39m\"\u001b[39m\n\u001b[1;32m    316\u001b[0m         )\n\u001b[1;32m    318\u001b[0m     \u001b[39m# Call the propagator\u001b[39;00m\n\u001b[0;32m--> 319\u001b[0m     shnty \u001b[39m=\u001b[39m _shnty_propagator_dict[key](\u001b[39m*\u001b[39;49maargs_or_vals)\n\u001b[1;32m    320\u001b[0m     assert_shnty_ok(\u001b[39mf\u001b[39m\u001b[39m\"\u001b[39m\u001b[39mshnty_propagate[\u001b[39m\u001b[39m{\u001b[39;00m_opspec_to_str(key)\u001b[39m}\u001b[39;00m\u001b[39m]\u001b[39m\u001b[39m\"\u001b[39m, shnty)\n\u001b[1;32m    321\u001b[0m \u001b[39melse\u001b[39;00m:\n",
      "File \u001b[0;32m~/dev/fx-tools/fx_shnty_propagators.py:77\u001b[0m, in \u001b[0;36m_\u001b[0;34m(x)\u001b[0m\n\u001b[1;32m     75\u001b[0m sh \u001b[39m=\u001b[39m fx_shape(x)\n\u001b[1;32m     76\u001b[0m \u001b[39mif\u001b[39;00m \u001b[39mlen\u001b[39m(sh) \u001b[39m!=\u001b[39m \u001b[39m2\u001b[39m:\n\u001b[0;32m---> 77\u001b[0m     \u001b[39mraise\u001b[39;00m \u001b[39mNotImplementedError\u001b[39;00m(\n\u001b[1;32m     78\u001b[0m         \u001b[39mf\u001b[39m\u001b[39m\"\u001b[39m\u001b[39mcheck trace implementation for snhty \u001b[39m\u001b[39m{\u001b[39;00mx\u001b[39m}\u001b[39;00m\u001b[39m, it might be fine\u001b[39m\u001b[39m\"\u001b[39m\n\u001b[1;32m     79\u001b[0m     )\n\u001b[1;32m     80\u001b[0m \u001b[39mreturn\u001b[39;00m AbstractTensor(sh[:\u001b[39m-\u001b[39m\u001b[39m2\u001b[39m], x\u001b[39m.\u001b[39mdtype)\n",
      "\u001b[0;31mNotImplementedError\u001b[0m: check trace implementation for snhty tensor([0.3367, 0.1288, 0.2345]), it might be fine"
     ]
    }
   ],
   "source": [
    "import torch\n",
    "from awfutils.pytree_utils import PyTree\n",
    "import difffx as dfx\n",
    "\n",
    "# Function to vjp\n",
    "def foo(x):\n",
    "    w = torch.trace(x)\n",
    "    w = torch.sin(w)\n",
    "    a = w * x\n",
    "    return a\n",
    "\n",
    "torch.manual_seed(42)\n",
    "\n",
    "x = torch.randn(3,3)\n",
    "foo_vjp = dfx.vjp(foo, dfx.abstractify(x))\n",
    "\n",
    "dret = torch.randn_like(foo(x))\n",
    "foo_vjp_pt = lambda x,dret: torch.autograd.functional.vjp(foo, x, dret)\n",
    "\n",
    "PyTree.assert_close(foo_vjp_pt(x,dret), foo_vjp(x, dret))\n",
    "print('VJPs match OK')\n",
    "\n",
    "print(foo_vjp.code)"
   ]
  },
  {
   "cell_type": "code",
   "execution_count": null,
   "metadata": {},
   "outputs": [],
   "source": []
  }
 ],
 "metadata": {
  "kernelspec": {
   "display_name": "Python 3.10.8 ('pytorch')",
   "language": "python",
   "name": "python3"
  },
  "language_info": {
   "codemirror_mode": {
    "name": "ipython",
    "version": 3
   },
   "file_extension": ".py",
   "mimetype": "text/x-python",
   "name": "python",
   "nbconvert_exporter": "python",
   "pygments_lexer": "ipython3",
   "version": "3.10.8"
  },
  "orig_nbformat": 4,
  "vscode": {
   "interpreter": {
    "hash": "28f0c4cf9ff11e7fed1023153201d84a0ac9765962dc65ba2242229f995562f8"
   }
  }
 },
 "nbformat": 4,
 "nbformat_minor": 2
}
