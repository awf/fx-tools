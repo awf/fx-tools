{
 "cells": [
  {
   "cell_type": "markdown",
   "metadata": {},
   "source": [
    "# Examples of the use of DiffFX"
   ]
  },
  {
   "cell_type": "markdown",
   "metadata": {},
   "source": [
    "See DiffFX experiments."
   ]
  }
 ],
 "metadata": {
  "kernelspec": {
   "display_name": "Python 3.8.13 ('pytorch')",
   "language": "python",
   "name": "python3"
  },
  "language_info": {
   "codemirror_mode": {
    "name": "ipython",
    "version": 3
   },
   "file_extension": ".py",
   "mimetype": "text/x-python",
   "name": "python",
   "nbconvert_exporter": "python",
   "pygments_lexer": "ipython3",
   "version": "3.8.13"
  },
  "orig_nbformat": 4,
  "vscode": {
   "interpreter": {
    "hash": "b2bf4d325c6b65d79f774d86abebbf8809e91177030cf9ae093d5f991bbfb52e"
   }
  }
 },
 "nbformat": 4,
 "nbformat_minor": 2
}
