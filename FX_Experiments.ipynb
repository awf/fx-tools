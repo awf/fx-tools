{
  "cells": [
    {
      "cell_type": "markdown",
      "metadata": {
        "colab_type": "text",
        "id": "view-in-github"
      },
      "source": [
        "<a href=\"https://colab.research.google.com/github/awf/awf-misc/blob/main/FX_Experiments.ipynb\" target=\"_parent\"><img src=\"https://colab.research.google.com/assets/colab-badge.svg\" alt=\"Open In Colab\"/></a>"
      ]
    },
    {
      "cell_type": "code",
      "execution_count": 2,
      "metadata": {
        "colab": {
          "base_uri": "https://localhost:8080/"
        },
        "id": "JgQmrHBJDi2b",
        "outputId": "75caa67e-8d0c-42f0-8494-e2debc9294a8"
      },
      "outputs": [
        {
          "name": "stdout",
          "output_type": "stream",
          "text": [
            "\n",
            "\n",
            "\n",
            "def forward(self, x, b):\n",
            "    mul = 2 * x\n",
            "    mul_1 = 1.234 * x;  x = None\n",
            "    mul_2 = mul_1 * mul;  mul_1 = None\n",
            "    relu = torch.relu(mul_2);  mul_2 = None\n",
            "    neg = relu.neg();  relu = None\n",
            "    mul_3 = 1.234 * neg;  neg = None\n",
            "    mul_4 = mul_3 * mul;  mul_3 = mul = None\n",
            "    relu_1 = torch.relu(mul_4);  mul_4 = None\n",
            "    neg_1 = relu_1.neg();  relu_1 = None\n",
            "    atan2 = torch.atan2(b, neg_1);  b = neg_1 = None\n",
            "    return atan2\n",
            "    \n"
          ]
        }
      ],
      "source": [
        "import torch, torch.fx\n",
        "import copy\n",
        "\n",
        "def aux(p,q):\n",
        "    return torch.relu(1.234*p*q).neg()\n",
        "\n",
        "def my_func(x, b):\n",
        "    y = 2 * x\n",
        "    for _ in range(2): # Loops will be unrolled\n",
        "        x = aux(x,y) # Function calls will be inlined\n",
        "    return torch.atan2(b,x)\n",
        "\n",
        "my_func_trace = torch.fx.symbolic_trace(my_func)\n",
        "print(my_func_trace.code)"
      ]
    },
    {
      "cell_type": "markdown",
      "metadata": {},
      "source": [
        "## Example: convert relu to gelu"
      ]
    },
    {
      "cell_type": "code",
      "execution_count": 3,
      "metadata": {
        "id": "oaclgwPxDnvh"
      },
      "outputs": [
        {
          "name": "stdout",
          "output_type": "stream",
          "text": [
            "\n",
            "\n",
            "\n",
            "def forward(self, x, b):\n",
            "    mul = 2 * x\n",
            "    mul_1 = 1.234 * x;  x = None\n",
            "    mul_2 = mul_1 * mul;  mul_1 = None\n",
            "    relu = torch._C._nn.gelu(mul_2);  mul_2 = None\n",
            "    neg = relu.neg();  relu = None\n",
            "    mul_3 = 1.234 * neg;  neg = None\n",
            "    mul_4 = mul_3 * mul;  mul_3 = mul = None\n",
            "    relu_1 = torch._C._nn.gelu(mul_4);  mul_4 = None\n",
            "    neg_1 = relu_1.neg();  relu_1 = None\n",
            "    atan2 = torch.atan2(b, neg_1);  b = neg_1 = None\n",
            "    return atan2\n",
            "    \n"
          ]
        }
      ],
      "source": [
        "def relu_to_gelu(mod: torch.fx.GraphModule):\n",
        "    g = mod.graph\n",
        "    for n in g.nodes:\n",
        "        if n.op == 'call_function' and n.target == torch.relu:\n",
        "            n.target = torch.nn.functional.gelu\n",
        "\n",
        "    mod.recompile()\n",
        "    return None # in-place modification of the graph\n",
        "\n",
        "my_func_trace = torch.fx.symbolic_trace(my_func)\n",
        "relu_to_gelu(my_func_trace)\n",
        "print(my_func_trace.code)"
      ]
    },
    {
      "cell_type": "markdown",
      "metadata": {},
      "source": [
        "## Methods to functions\n",
        "\n",
        "Why _do_ we distinguish methods and functions?"
      ]
    },
    {
      "cell_type": "code",
      "execution_count": 4,
      "metadata": {},
      "outputs": [
        {
          "name": "stdout",
          "output_type": "stream",
          "text": [
            "doing nothing to x\n",
            "doing nothing to b\n",
            "doing nothing to output\n",
            "\n",
            "\n",
            "\n",
            "def forward(self, x, b):\n",
            "    mul = 2 * x\n",
            "    mul_1 = 1.234 * x;  x = None\n",
            "    mul_2 = mul_1 * mul;  mul_1 = None\n",
            "    relu = torch.relu(mul_2);  mul_2 = None\n",
            "    neg_2 = torch.neg(relu);  relu = None\n",
            "    mul_3 = 1.234 * neg_2;  neg_2 = None\n",
            "    mul_4 = mul_3 * mul;  mul_3 = mul = None\n",
            "    relu_1 = torch.relu(mul_4);  mul_4 = None\n",
            "    neg_3 = torch.neg(relu_1);  relu_1 = None\n",
            "    atan2 = torch.atan2(b, neg_3);  b = neg_3 = None\n",
            "    return atan2\n",
            "    \n"
          ]
        }
      ],
      "source": [
        "# map from method name to function name\n",
        "fn = {\n",
        "    'neg': torch.neg\n",
        "}\n",
        "\n",
        "def method_to_function(mod: torch.fx.GraphModule):\n",
        "    g = mod.graph\n",
        "    for n in g.nodes:\n",
        "        if n.op == 'call_function':\n",
        "            pass\n",
        "        elif n.op == 'call_method':\n",
        "            # create IR to call new activate\n",
        "            with g.inserting_after(n):\n",
        "                new_n = g.call_function(fn[n.target], n.args)\n",
        "                n.replace_all_uses_with(new_n)\n",
        "                g.erase_node(n)\n",
        "        else:\n",
        "            print('doing nothing to', n)\n",
        "\n",
        "    mod.recompile()\n",
        "    return None # in-place modification of the graph\n",
        "\n",
        "my_func_trace = torch.fx.symbolic_trace(my_func)\n",
        "method_to_function(my_func_trace)\n",
        "print(my_func_trace.code)\n",
        "\n",
        "# Look for:\n",
        "#   neg_2 = torch.neg(relu);"
      ]
    },
    {
      "cell_type": "code",
      "execution_count": 6,
      "metadata": {},
      "outputs": [
        {
          "name": "stdout",
          "output_type": "stream",
          "text": [
            "foo()\n",
            "\n",
            "\n",
            "\n",
            "def forward(self, x):\n",
            "    mul = 1.1 * x;  x = None\n",
            "    relu = torch.relu(mul);  mul = None\n",
            "    neg = torch.neg(relu);  relu = None\n",
            "    return neg\n",
            "    \n"
          ]
        }
      ],
      "source": [
        "from vjp_rules import *\n",
        "\n",
        "# Function to vjp\n",
        "def foo(x):\n",
        "    a = scale(1.1, x)\n",
        "    b = torch.relu(a)\n",
        "    c = torch.neg(b)\n",
        "    return c\n",
        "\n",
        "# Desired vjp code\n",
        "def foo_grad(x, dret):\n",
        "    scale,scale_aux = scale_fwd(1.1, x)\n",
        "    relu,relu_awx = relu_fwd(scale)\n",
        "    neg,neg_aux = neg_fwd(relu)\n",
        "    \n",
        "    drelu = neg_bwd(neg_aux, dret)\n",
        "    dscale = relu_bwd(relu_awx, drelu)\n",
        "    _,dx = scale_bwd(scale_aux, dscale)\n",
        "    return dx\n",
        "\n",
        "\n",
        "my_func_trace = torch.fx.symbolic_trace(foo)\n",
        "print(my_func_trace)\n"
      ]
    },
    {
      "cell_type": "code",
      "execution_count": 7,
      "metadata": {},
      "outputs": [
        {
          "name": "stdout",
          "output_type": "stream",
          "text": [
            "FWD <built-in function mul> (1.1, Proxy(x))\n",
            "FWD <built-in method relu of type object at 0x7f3835408d60> (Proxy(mul),)\n",
            "FWD <built-in method neg of type object at 0x7f3835408d60> (Proxy(relu),)\n",
            "Proxy(neg) None <function neg_bwd at 0x7f380d4f5ca0> (Proxy(relu),) : Proxy(neg_1)\n",
            "Proxy(relu) Proxy(mul) <function relu_bwd at 0x7f380d557d30> (Proxy(mul),) : Proxy(mul_1)\n",
            "Proxy(mul) (1.1, Proxy(x)) <function mul_bwd at 0x7f380d56a310> (1.1, Proxy(x)) : (Ellipsis, Proxy(mul_2))\n",
            "run()\n",
            "\n",
            "\n",
            "\n",
            "def forward(self, x, dret):\n",
            "    mul = 1.1 * x;  x = None\n",
            "    relu = torch.relu(mul)\n",
            "    neg = -relu;  relu = None\n",
            "    neg_1 = -dret;  dret = None\n",
            "    gt = mul > 0;  mul = None\n",
            "    mul_1 = gt * neg_1;  gt = neg_1 = None\n",
            "    mul_2 = 1.1 * mul_1;  mul_1 = None\n",
            "    return mul_2\n",
            "    \n",
            "foo_grad()\n",
            "\n",
            "\n",
            "\n",
            "def forward(self, x, dret):\n",
            "    mul = 1.1 * x;  x = None\n",
            "    relu = torch.relu(mul)\n",
            "    neg = -relu;  relu = None\n",
            "    neg_1 = -dret;  dret = None\n",
            "    gt = mul > 0;  mul = None\n",
            "    mul_1 = gt * neg_1;  gt = neg_1 = None\n",
            "    mul_2 = 1.1 * mul_1;  mul_1 = None\n",
            "    return mul_2\n",
            "    \n"
          ]
        },
        {
          "data": {
            "text/plain": [
              "tensor([[-0.0000,  0.0000,  0.0000,  0.0015],\n",
              "        [-0.0000,  0.0000,  0.0023,  0.0000],\n",
              "        [-0.0003,  0.0000, -0.0000,  0.0003]])"
            ]
          },
          "execution_count": 7,
          "metadata": {},
          "output_type": "execute_result"
        }
      ],
      "source": [
        "from ast import Add\n",
        "import operator\n",
        "import torch.fx as fx\n",
        "\n",
        "def add_vjp(aux,d_add):\n",
        "    return (d_add,d_add)\n",
        "\n",
        "# https://github.com/pytorch/pytorch/blob/master/torch/fx/OVERVIEW.md#the-fx-ir\n",
        "\n",
        "ad_map = {\n",
        "    operator.neg: (neg_fwd, neg_bwd),\n",
        "    torch.neg: (neg_fwd, neg_bwd),\n",
        "    operator.add: (add_fwd, add_bwd),\n",
        "    operator.mul: (mul_fwd, mul_bwd),\n",
        "    torch.relu: (relu_fwd, relu_bwd)\n",
        "}\n",
        "\n",
        "class ADInterpreter(torch.fx.Interpreter):\n",
        "    \n",
        "    def __init__(self, f):\n",
        "        self.stack = []\n",
        "        super().__init__(f)\n",
        "\n",
        "    def call_function(self, target, args, kwargs):\n",
        "        assert kwargs == None or len(kwargs) == 0\n",
        "        print('FWD', target, args)\n",
        "        val,aux = ad_map[target][0](*args)\n",
        "        self.stack.append((aux, val, ad_map[target][1], args))\n",
        "        return val\n",
        "\n",
        "def ensure_tuple(x):\n",
        "    if isinstance(x, tuple):\n",
        "        return x\n",
        "    return (x,)\n",
        "\n",
        "def ad_wrapper(f_trace):\n",
        "    ad = ADInterpreter(f_trace)\n",
        "    def run(x, dret):\n",
        "        ret = ad.run(x)\n",
        "        ad.stack.reverse()\n",
        "        d =  {ret: dret}\n",
        "        for (aux, val, f_rev, args) in ad.stack:\n",
        "            dargs = f_rev(aux, d[val])\n",
        "            print(val, aux, f_rev, args, \":\", dargs)\n",
        "            for (a,da) in zip(args, ensure_tuple(dargs)):\n",
        "                if a in d:\n",
        "                    d[a] += da\n",
        "                else:\n",
        "                    d[a] = da\n",
        "        return d[x]\n",
        "        \n",
        "\n",
        "    return run\n",
        "     \n",
        "\n",
        "\n",
        "foo_trace = torch.fx.symbolic_trace(foo)\n",
        "new_fn = torch.fx.symbolic_trace(ad_wrapper(foo_trace))\n",
        "print(new_fn)\n",
        "\n",
        "my_func_trace = torch.fx.symbolic_trace(foo_grad)\n",
        "print(my_func_trace)\n",
        "\n",
        "x = torch.randn(3,4)\n",
        "dret = 0.001 * torch.randn(3, 4)\n",
        "new_fn(x, dret)\n"
      ]
    }
  ],
  "metadata": {
    "colab": {
      "authorship_tag": "ABX9TyMk6IojwKPOoEtWLs82Civ+",
      "include_colab_link": true,
      "provenance": []
    },
    "kernelspec": {
      "display_name": "Python 3.8.13 ('py38')",
      "language": "python",
      "name": "python3"
    },
    "language_info": {
      "codemirror_mode": {
        "name": "ipython",
        "version": 3
      },
      "file_extension": ".py",
      "mimetype": "text/x-python",
      "name": "python",
      "nbconvert_exporter": "python",
      "pygments_lexer": "ipython3",
      "version": "3.8.13"
    },
    "vscode": {
      "interpreter": {
        "hash": "48f0586b5271bc1b0b9981c11e2ea3d59b4d4825df08b76cc00b7e4baa2f26fa"
      }
    }
  },
  "nbformat": 4,
  "nbformat_minor": 0
}
