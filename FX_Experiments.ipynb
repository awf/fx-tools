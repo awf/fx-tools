{
  "cells": [
    {
      "cell_type": "markdown",
      "metadata": {
        "colab_type": "text",
        "id": "view-in-github"
      },
      "source": [
        "<a href=\"https://colab.research.google.com/github/awf/awf-misc/blob/main/FX_Experiments.ipynb\" target=\"_parent\"><img src=\"https://colab.research.google.com/assets/colab-badge.svg\" alt=\"Open In Colab\"/></a>"
      ]
    },
    {
      "cell_type": "code",
      "execution_count": 1,
      "metadata": {},
      "outputs": [],
      "source": [
        "import torch"
      ]
    },
    {
      "cell_type": "code",
      "execution_count": 5,
      "metadata": {},
      "outputs": [
        {
          "name": "stdout",
          "output_type": "stream",
          "text": [
            "shnty_trace (shnty:Tensor[(3,5),torch.float32], shnty[torch.float32], 2)\n",
            "shnty_trace -- x = x\n",
            "shnty_trace -- b = b\n",
            "shnty_trace -- n = n\n",
            "shnty_trace -- mul = mul(b,x)\n"
          ]
        },
        {
          "ename": "NotImplementedError",
          "evalue": "Need to implement `shnty_propagate` for function `mul`",
          "output_type": "error",
          "traceback": [
            "\u001b[0;31m---------------------------------------------------------------------------\u001b[0m",
            "\u001b[0;31mNotImplementedError\u001b[0m                       Traceback (most recent call last)",
            "Cell \u001b[0;32mIn [5], line 18\u001b[0m\n\u001b[1;32m     15\u001b[0m n \u001b[39m=\u001b[39m \u001b[39m2\u001b[39m\n\u001b[1;32m     16\u001b[0m foo(x,b,n)\n\u001b[0;32m---> 18\u001b[0m foo_gm \u001b[39m=\u001b[39m shnty_trace(foo, aargs\u001b[39m=\u001b[39;49m(abstractify(x), abstractify(b), n))\n\u001b[1;32m     20\u001b[0m fx_print(foo_gm)\n",
            "File \u001b[0;32m~/dev/fx-tools/fx_shnty.py:315\u001b[0m, in \u001b[0;36mshnty_trace\u001b[0;34m(func, aargs)\u001b[0m\n\u001b[1;32m    313\u001b[0m _log(\u001b[39mf\u001b[39m\u001b[39m\"\u001b[39m\u001b[39mshnty_trace \u001b[39m\u001b[39m{\u001b[39;00maargs\u001b[39m}\u001b[39;00m\u001b[39m\"\u001b[39m)\n\u001b[1;32m    314\u001b[0m shnty_tracer \u001b[39m=\u001b[39m AbstractValueTracer(aargs)\n\u001b[0;32m--> 315\u001b[0m graph \u001b[39m=\u001b[39m shnty_tracer\u001b[39m.\u001b[39;49mtrace(func)\n\u001b[1;32m    316\u001b[0m \u001b[39mreturn\u001b[39;00m tfx\u001b[39m.\u001b[39mGraphModule(shnty_tracer\u001b[39m.\u001b[39mroot, graph, func\u001b[39m.\u001b[39m\u001b[39m__name__\u001b[39m)\n",
            "File \u001b[0;32m~/miniconda3/envs/pytorch/lib/python3.10/site-packages/torch/fx/_symbolic_trace.py:739\u001b[0m, in \u001b[0;36mTracer.trace\u001b[0;34m(self, root, concrete_args)\u001b[0m\n\u001b[1;32m    732\u001b[0m         \u001b[39mfor\u001b[39;00m module \u001b[39min\u001b[39;00m \u001b[39mself\u001b[39m\u001b[39m.\u001b[39m_autowrap_search:\n\u001b[1;32m    733\u001b[0m             _autowrap_check(\n\u001b[1;32m    734\u001b[0m                 patcher, module\u001b[39m.\u001b[39m\u001b[39m__dict__\u001b[39m, \u001b[39mself\u001b[39m\u001b[39m.\u001b[39m_autowrap_function_ids\n\u001b[1;32m    735\u001b[0m             )\n\u001b[1;32m    736\u001b[0m         \u001b[39mself\u001b[39m\u001b[39m.\u001b[39mcreate_node(\n\u001b[1;32m    737\u001b[0m             \u001b[39m\"\u001b[39m\u001b[39moutput\u001b[39m\u001b[39m\"\u001b[39m,\n\u001b[1;32m    738\u001b[0m             \u001b[39m\"\u001b[39m\u001b[39moutput\u001b[39m\u001b[39m\"\u001b[39m,\n\u001b[0;32m--> 739\u001b[0m             (\u001b[39mself\u001b[39m\u001b[39m.\u001b[39mcreate_arg(fn(\u001b[39m*\u001b[39;49margs)),),\n\u001b[1;32m    740\u001b[0m             {},\n\u001b[1;32m    741\u001b[0m             type_expr\u001b[39m=\u001b[39mfn\u001b[39m.\u001b[39m\u001b[39m__annotations__\u001b[39m\u001b[39m.\u001b[39mget(\u001b[39m\"\u001b[39m\u001b[39mreturn\u001b[39m\u001b[39m\"\u001b[39m, \u001b[39mNone\u001b[39;00m),\n\u001b[1;32m    742\u001b[0m         )\n\u001b[1;32m    744\u001b[0m     \u001b[39mself\u001b[39m\u001b[39m.\u001b[39msubmodule_paths \u001b[39m=\u001b[39m \u001b[39mNone\u001b[39;00m\n\u001b[1;32m    745\u001b[0m \u001b[39mfinally\u001b[39;00m:\n",
            "Cell \u001b[0;32mIn [5], line 8\u001b[0m, in \u001b[0;36mfoo\u001b[0;34m(x, b, n)\u001b[0m\n\u001b[1;32m      7\u001b[0m \u001b[39mdef\u001b[39;00m \u001b[39mfoo\u001b[39m(x, b, n):\n\u001b[0;32m----> 8\u001b[0m   y \u001b[39m=\u001b[39m b \u001b[39m*\u001b[39;49m x\n\u001b[1;32m      9\u001b[0m   \u001b[39mfor\u001b[39;00m _ \u001b[39min\u001b[39;00m \u001b[39mrange\u001b[39m(n):  \u001b[39m# Loops will be unrolled\u001b[39;00m\n\u001b[1;32m     10\u001b[0m     x \u001b[39m=\u001b[39m aux(x, y)  \u001b[39m# Function calls will be inlined\u001b[39;00m\n",
            "File \u001b[0;32m~/miniconda3/envs/pytorch/lib/python3.10/site-packages/torch/fx/proxy.py:400\u001b[0m, in \u001b[0;36m_scope.<locals>.impl\u001b[0;34m(*args, **kwargs)\u001b[0m\n\u001b[1;32m    398\u001b[0m tracer \u001b[39m=\u001b[39m args[\u001b[39m0\u001b[39m]\u001b[39m.\u001b[39mtracer\n\u001b[1;32m    399\u001b[0m target \u001b[39m=\u001b[39m \u001b[39mgetattr\u001b[39m(operator, method)\n\u001b[0;32m--> 400\u001b[0m \u001b[39mreturn\u001b[39;00m tracer\u001b[39m.\u001b[39;49mcreate_proxy(\u001b[39m'\u001b[39;49m\u001b[39mcall_function\u001b[39;49m\u001b[39m'\u001b[39;49m, target, args, kwargs)\n",
            "File \u001b[0;32m~/miniconda3/envs/pytorch/lib/python3.10/site-packages/torch/fx/proxy.py:74\u001b[0m, in \u001b[0;36mTracerBase.create_proxy\u001b[0;34m(self, kind, target, args, kwargs, name, type_expr, proxy_factory_fn)\u001b[0m\n\u001b[1;32m     71\u001b[0m node \u001b[39m=\u001b[39m \u001b[39mself\u001b[39m\u001b[39m.\u001b[39mcreate_node(kind, target, args_, kwargs_, name, type_expr)\n\u001b[1;32m     73\u001b[0m \u001b[39mif\u001b[39;00m \u001b[39mnot\u001b[39;00m proxy_factory_fn:\n\u001b[0;32m---> 74\u001b[0m     proxy \u001b[39m=\u001b[39m \u001b[39mself\u001b[39;49m\u001b[39m.\u001b[39;49mproxy(node)\n\u001b[1;32m     75\u001b[0m \u001b[39melse\u001b[39;00m:\n\u001b[1;32m     76\u001b[0m     proxy \u001b[39m=\u001b[39m proxy_factory_fn(node)\n",
            "File \u001b[0;32m~/dev/fx-tools/fx_shnty.py:289\u001b[0m, in \u001b[0;36mAbstractValueTracer.proxy\u001b[0;34m(self, node)\u001b[0m\n\u001b[1;32m    286\u001b[0m     \u001b[39massert\u001b[39;00m \u001b[39mFalse\u001b[39;00m\n\u001b[1;32m    288\u001b[0m \u001b[39mif\u001b[39;00m key \u001b[39mnot\u001b[39;00m \u001b[39min\u001b[39;00m _shnty_propagator_dict:\n\u001b[0;32m--> 289\u001b[0m     \u001b[39mraise\u001b[39;00m \u001b[39mNotImplementedError\u001b[39;00m(\n\u001b[1;32m    290\u001b[0m         \u001b[39mf\u001b[39m\u001b[39m\"\u001b[39m\u001b[39mNeed to implement `shnty_propagate` for \u001b[39m\u001b[39m{\u001b[39;00m_opspec_to_str(key)\u001b[39m}\u001b[39;00m\u001b[39m\"\u001b[39m\n\u001b[1;32m    291\u001b[0m     )\n\u001b[1;32m    293\u001b[0m \u001b[39m# Call the propagator\u001b[39;00m\n\u001b[1;32m    294\u001b[0m shnty \u001b[39m=\u001b[39m _shnty_propagator_dict[key](\u001b[39m*\u001b[39maargs_or_vals)\n",
            "\u001b[0;31mNotImplementedError\u001b[0m: Need to implement `shnty_propagate` for function `mul`"
          ]
        }
      ],
      "source": [
        "from fx_shnty import shnty_trace, abstractify\n",
        "from fx_print import fx_print\n",
        "\n",
        "def aux(p, q):\n",
        "  return torch.relu(1.234 * p * q).neg()\n",
        "\n",
        "def foo(x, b, n):\n",
        "  y = b * x\n",
        "  for _ in range(n):  # Loops will be unrolled\n",
        "    x = aux(x, y)  # Function calls will be inlined\n",
        "  return torch.atan2(torch.tensor(b), x)\n",
        "\n",
        "x = torch.randn(3,5)\n",
        "b = 8.2\n",
        "n = 2\n",
        "foo(x,b,n)\n",
        "\n",
        "foo_gm = shnty_trace(foo, aargs=(abstractify(x), abstractify(b), n))\n",
        "\n",
        "fx_print(foo_gm)\n"
      ]
    },
    {
      "cell_type": "code",
      "execution_count": 84,
      "metadata": {},
      "outputs": [
        {
          "name": "stdout",
          "output_type": "stream",
          "text": [
            "def my_func(x,b):\n",
            "  v10 = x\n",
            "  v11 = b\n",
            "  v12 = mul(2,v10)\n",
            "  v13 = mul(1.234,v10)\n",
            "  v14 = mul(v13,v12)\n",
            "  v15 = relu(v14)\n",
            "  v16 = v15.neg()\n",
            "  v17 = mul(1.234,v16)\n",
            "  v18 = mul(v17,v12)\n",
            "  v19 = relu(v18)\n",
            "  v20 = v19.neg()\n",
            "  v21 = atan2(v11,v20)\n",
            "  return v21\n"
          ]
        }
      ],
      "source": []
    },
    {
      "cell_type": "code",
      "execution_count": 4,
      "metadata": {
        "colab": {
          "base_uri": "https://localhost:8080/"
        },
        "id": "JgQmrHBJDi2b",
        "outputId": "75caa67e-8d0c-42f0-8494-e2debc9294a8"
      },
      "outputs": [
        {
          "name": "stdout",
          "output_type": "stream",
          "text": [
            "\n",
            "\n",
            "\n",
            "def forward(self, x, b):\n",
            "    mul = 2 * x\n",
            "    mul_1 = 1.234 * x;  x = None\n",
            "    mul_2 = mul_1 * mul;  mul_1 = None\n",
            "    relu = torch.relu(mul_2);  mul_2 = None\n",
            "    neg = relu.neg();  relu = None\n",
            "    mul_3 = 1.234 * neg;  neg = None\n",
            "    mul_4 = mul_3 * mul;  mul_3 = mul = None\n",
            "    relu_1 = torch.relu(mul_4);  mul_4 = None\n",
            "    neg_1 = relu_1.neg();  relu_1 = None\n",
            "    atan2 = torch.atan2(b, neg_1);  b = neg_1 = None\n",
            "    return atan2\n",
            "    \n"
          ]
        }
      ],
      "source": []
    },
    {
      "cell_type": "markdown",
      "metadata": {},
      "source": [
        "## Example: convert relu to gelu"
      ]
    },
    {
      "cell_type": "code",
      "execution_count": 3,
      "metadata": {
        "id": "oaclgwPxDnvh"
      },
      "outputs": [
        {
          "name": "stdout",
          "output_type": "stream",
          "text": [
            "\n",
            "\n",
            "\n",
            "def forward(self, x, b):\n",
            "    mul = 2 * x\n",
            "    mul_1 = 1.234 * x;  x = None\n",
            "    mul_2 = mul_1 * mul;  mul_1 = None\n",
            "    relu = torch._C._nn.gelu(mul_2);  mul_2 = None\n",
            "    neg = relu.neg();  relu = None\n",
            "    mul_3 = 1.234 * neg;  neg = None\n",
            "    mul_4 = mul_3 * mul;  mul_3 = mul = None\n",
            "    relu_1 = torch._C._nn.gelu(mul_4);  mul_4 = None\n",
            "    neg_1 = relu_1.neg();  relu_1 = None\n",
            "    atan2 = torch.atan2(b, neg_1);  b = neg_1 = None\n",
            "    return atan2\n",
            "    \n"
          ]
        }
      ],
      "source": [
        "def relu_to_gelu(mod: torch.fx.GraphModule):\n",
        "    g = mod.graph\n",
        "    for n in g.nodes:\n",
        "        if n.op == 'call_function' and n.target == torch.relu:\n",
        "            n.target = torch.nn.functional.gelu\n",
        "\n",
        "    mod.recompile()\n",
        "    return None # in-place modification of the graph\n",
        "\n",
        "my_func_trace = torch.fx.symbolic_trace(my_func)\n",
        "relu_to_gelu(my_func_trace)\n",
        "print(my_func_trace.code)"
      ]
    },
    {
      "cell_type": "markdown",
      "metadata": {},
      "source": [
        "## Methods to functions\n",
        "\n",
        "Why _do_ we distinguish methods and functions?"
      ]
    },
    {
      "cell_type": "code",
      "execution_count": 6,
      "metadata": {},
      "outputs": [
        {
          "name": "stdout",
          "output_type": "stream",
          "text": [
            "doing nothing to x\n",
            "doing nothing to b\n",
            "doing nothing to mul\n",
            "doing nothing to mul_1\n",
            "doing nothing to mul_2\n",
            "doing nothing to relu\n",
            "doing nothing to neg_2\n",
            "doing nothing to mul_3\n",
            "doing nothing to mul_4\n",
            "doing nothing to relu_1\n",
            "doing nothing to neg_3\n",
            "doing nothing to atan2\n",
            "doing nothing to output\n",
            "\n",
            "\n",
            "\n",
            "def forward(self, x, b):\n",
            "    mul = 2 * x\n",
            "    mul_1 = 1.234 * x;  x = None\n",
            "    mul_2 = mul_1 * mul;  mul_1 = None\n",
            "    relu = torch.relu(mul_2);  mul_2 = None\n",
            "    neg_2 = torch.neg(relu);  relu = None\n",
            "    mul_3 = 1.234 * neg_2;  neg_2 = None\n",
            "    mul_4 = mul_3 * mul;  mul_3 = mul = None\n",
            "    relu_1 = torch.relu(mul_4);  mul_4 = None\n",
            "    neg_3 = torch.neg(relu_1);  relu_1 = None\n",
            "    atan2 = torch.atan2(b, neg_3);  b = neg_3 = None\n",
            "    return atan2\n",
            "    \n"
          ]
        }
      ],
      "source": [
        "# map from method name to function name\n",
        "def method_to_function(mod: torch.fx.GraphModule):\n",
        "    g = mod.graph\n",
        "    for n in g.nodes:\n",
        "        if n.op == 'call_method':\n",
        "            # create IR to call new activate\n",
        "            with g.inserting_after(n):\n",
        "                new_n = g.call_function(fn[n.target], n.args)\n",
        "                n.replace_all_uses_with(new_n)\n",
        "                g.erase_node(n)\n",
        "        else:\n",
        "            print('doing nothing to', n)\n",
        "\n",
        "    mod.recompile()\n",
        "    return None # in-place modification of the graph\n",
        "\n",
        "my_func_trace = torch.fx.symbolic_trace(my_func)\n",
        "method_to_function(my_func_trace)\n",
        "print(my_func_trace.code)\n",
        "\n",
        "# Look for:\n",
        "#   neg_2 = torch.neg(relu);"
      ]
    }
  ],
  "metadata": {
    "colab": {
      "authorship_tag": "ABX9TyMk6IojwKPOoEtWLs82Civ+",
      "include_colab_link": true,
      "provenance": []
    },
    "kernelspec": {
      "display_name": "Python 3.10.8 ('pytorch')",
      "language": "python",
      "name": "python3"
    },
    "language_info": {
      "codemirror_mode": {
        "name": "ipython",
        "version": 3
      },
      "file_extension": ".py",
      "mimetype": "text/x-python",
      "name": "python",
      "nbconvert_exporter": "python",
      "pygments_lexer": "ipython3",
      "version": "3.10.8"
    },
    "vscode": {
      "interpreter": {
        "hash": "28f0c4cf9ff11e7fed1023153201d84a0ac9765962dc65ba2242229f995562f8"
      }
    }
  },
  "nbformat": 4,
  "nbformat_minor": 0
}
