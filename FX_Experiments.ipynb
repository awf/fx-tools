{
  "cells": [
    {
      "cell_type": "markdown",
      "metadata": {
        "colab_type": "text",
        "id": "view-in-github"
      },
      "source": [
        "<a href=\"https://colab.research.google.com/github/awf/awf-misc/blob/main/FX_Experiments.ipynb\" target=\"_parent\"><img src=\"https://colab.research.google.com/assets/colab-badge.svg\" alt=\"Open In Colab\"/></a>"
      ]
    },
    {
      "cell_type": "code",
      "execution_count": 2,
      "metadata": {
        "colab": {
          "base_uri": "https://localhost:8080/"
        },
        "id": "JgQmrHBJDi2b",
        "outputId": "75caa67e-8d0c-42f0-8494-e2debc9294a8"
      },
      "outputs": [
        {
          "name": "stdout",
          "output_type": "stream",
          "text": [
            "\n",
            "\n",
            "\n",
            "def forward(self, x, b):\n",
            "    mul = 2 * x\n",
            "    mul_1 = 1.234 * x;  x = None\n",
            "    mul_2 = mul_1 * mul;  mul_1 = None\n",
            "    relu = torch.relu(mul_2);  mul_2 = None\n",
            "    neg = relu.neg();  relu = None\n",
            "    mul_3 = 1.234 * neg;  neg = None\n",
            "    mul_4 = mul_3 * mul;  mul_3 = mul = None\n",
            "    relu_1 = torch.relu(mul_4);  mul_4 = None\n",
            "    neg_1 = relu_1.neg();  relu_1 = None\n",
            "    atan2 = torch.atan2(b, neg_1);  b = neg_1 = None\n",
            "    return atan2\n",
            "    \n"
          ]
        }
      ],
      "source": [
        "import torch, torch.fx\n",
        "import copy\n",
        "\n",
        "def aux(p,q):\n",
        "    return torch.relu(1.234*p*q).neg()\n",
        "\n",
        "def my_func(x, b):\n",
        "    y = 2 * x\n",
        "    for _ in range(2): # Loops will be unrolled\n",
        "        x = aux(x,y) # Function calls will be inlined\n",
        "    return torch.atan2(b,x)\n",
        "\n",
        "my_func_trace = torch.fx.symbolic_trace(my_func)\n",
        "print(my_func_trace.code)"
      ]
    },
    {
      "cell_type": "markdown",
      "metadata": {},
      "source": [
        "## Example: convert relu to gelu"
      ]
    },
    {
      "cell_type": "code",
      "execution_count": 3,
      "metadata": {
        "id": "oaclgwPxDnvh"
      },
      "outputs": [
        {
          "name": "stdout",
          "output_type": "stream",
          "text": [
            "\n",
            "\n",
            "\n",
            "def forward(self, x, b):\n",
            "    mul = 2 * x\n",
            "    mul_1 = 1.234 * x;  x = None\n",
            "    mul_2 = mul_1 * mul;  mul_1 = None\n",
            "    relu = torch._C._nn.gelu(mul_2);  mul_2 = None\n",
            "    neg = relu.neg();  relu = None\n",
            "    mul_3 = 1.234 * neg;  neg = None\n",
            "    mul_4 = mul_3 * mul;  mul_3 = mul = None\n",
            "    relu_1 = torch._C._nn.gelu(mul_4);  mul_4 = None\n",
            "    neg_1 = relu_1.neg();  relu_1 = None\n",
            "    atan2 = torch.atan2(b, neg_1);  b = neg_1 = None\n",
            "    return atan2\n",
            "    \n"
          ]
        }
      ],
      "source": [
        "def relu_to_gelu(mod: torch.fx.GraphModule):\n",
        "    g = mod.graph\n",
        "    for n in g.nodes:\n",
        "        if n.op == 'call_function' and n.target == torch.relu:\n",
        "            n.target = torch.nn.functional.gelu\n",
        "\n",
        "    mod.recompile()\n",
        "    return None # in-place modification of the graph\n",
        "\n",
        "my_func_trace = torch.fx.symbolic_trace(my_func)\n",
        "relu_to_gelu(my_func_trace)\n",
        "print(my_func_trace.code)"
      ]
    },
    {
      "cell_type": "markdown",
      "metadata": {},
      "source": [
        "## Methods to functions\n",
        "\n",
        "Why _do_ we distinguish methods and functions?"
      ]
    },
    {
      "cell_type": "code",
      "execution_count": 6,
      "metadata": {},
      "outputs": [
        {
          "name": "stdout",
          "output_type": "stream",
          "text": [
            "doing nothing to x\n",
            "doing nothing to b\n",
            "doing nothing to mul\n",
            "doing nothing to mul_1\n",
            "doing nothing to mul_2\n",
            "doing nothing to relu\n",
            "doing nothing to neg_2\n",
            "doing nothing to mul_3\n",
            "doing nothing to mul_4\n",
            "doing nothing to relu_1\n",
            "doing nothing to neg_3\n",
            "doing nothing to atan2\n",
            "doing nothing to output\n",
            "\n",
            "\n",
            "\n",
            "def forward(self, x, b):\n",
            "    mul = 2 * x\n",
            "    mul_1 = 1.234 * x;  x = None\n",
            "    mul_2 = mul_1 * mul;  mul_1 = None\n",
            "    relu = torch.relu(mul_2);  mul_2 = None\n",
            "    neg_2 = torch.neg(relu);  relu = None\n",
            "    mul_3 = 1.234 * neg_2;  neg_2 = None\n",
            "    mul_4 = mul_3 * mul;  mul_3 = mul = None\n",
            "    relu_1 = torch.relu(mul_4);  mul_4 = None\n",
            "    neg_3 = torch.neg(relu_1);  relu_1 = None\n",
            "    atan2 = torch.atan2(b, neg_3);  b = neg_3 = None\n",
            "    return atan2\n",
            "    \n"
          ]
        }
      ],
      "source": [
        "# map from method name to function name\n",
        "def method_to_function(mod: torch.fx.GraphModule):\n",
        "    g = mod.graph\n",
        "    for n in g.nodes:\n",
        "        if n.op == 'call_method':\n",
        "            # create IR to call new activate\n",
        "            with g.inserting_after(n):\n",
        "                new_n = g.call_function(fn[n.target], n.args)\n",
        "                n.replace_all_uses_with(new_n)\n",
        "                g.erase_node(n)\n",
        "        else:\n",
        "            print('doing nothing to', n)\n",
        "\n",
        "    mod.recompile()\n",
        "    return None # in-place modification of the graph\n",
        "\n",
        "my_func_trace = torch.fx.symbolic_trace(my_func)\n",
        "method_to_function(my_func_trace)\n",
        "print(my_func_trace.code)\n",
        "\n",
        "# Look for:\n",
        "#   neg_2 = torch.neg(relu);"
      ]
    }
  ],
  "metadata": {
    "colab": {
      "authorship_tag": "ABX9TyMk6IojwKPOoEtWLs82Civ+",
      "include_colab_link": true,
      "provenance": []
    },
    "kernelspec": {
      "display_name": "Python 3.8.13 ('pytorch')",
      "language": "python",
      "name": "python3"
    },
    "language_info": {
      "codemirror_mode": {
        "name": "ipython",
        "version": 3
      },
      "file_extension": ".py",
      "mimetype": "text/x-python",
      "name": "python",
      "nbconvert_exporter": "python",
      "pygments_lexer": "ipython3",
      "version": "3.8.13"
    },
    "vscode": {
      "interpreter": {
        "hash": "b2bf4d325c6b65d79f774d86abebbf8809e91177030cf9ae093d5f991bbfb52e"
      }
    }
  },
  "nbformat": 4,
  "nbformat_minor": 0
}
